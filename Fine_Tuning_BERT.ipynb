{
  "nbformat": 4,
  "nbformat_minor": 0,
  "metadata": {
    "colab": {
      "provenance": [],
      "toc_visible": true,
      "gpuType": "T4",
      "include_colab_link": true
    },
    "kernelspec": {
      "name": "python3",
      "display_name": "Python 3"
    },
    "language_info": {
      "name": "python"
    },
    "accelerator": "GPU",
    "widgets": {
      "application/vnd.jupyter.widget-state+json": {
        "f0da73b613ca41f6b8eab02c8a492a0b": {
          "model_module": "@jupyter-widgets/controls",
          "model_name": "HBoxModel",
          "model_module_version": "1.5.0",
          "state": {
            "_dom_classes": [],
            "_model_module": "@jupyter-widgets/controls",
            "_model_module_version": "1.5.0",
            "_model_name": "HBoxModel",
            "_view_count": null,
            "_view_module": "@jupyter-widgets/controls",
            "_view_module_version": "1.5.0",
            "_view_name": "HBoxView",
            "box_style": "",
            "children": [
              "IPY_MODEL_65e7c76e976b4bba868d3d0baa299158",
              "IPY_MODEL_a7e549d50baa4a818c985410b40beff2",
              "IPY_MODEL_35eba975499346cababe108e905579d3"
            ],
            "layout": "IPY_MODEL_49476e933df6446cbd3bded6d1847b22"
          }
        },
        "65e7c76e976b4bba868d3d0baa299158": {
          "model_module": "@jupyter-widgets/controls",
          "model_name": "HTMLModel",
          "model_module_version": "1.5.0",
          "state": {
            "_dom_classes": [],
            "_model_module": "@jupyter-widgets/controls",
            "_model_module_version": "1.5.0",
            "_model_name": "HTMLModel",
            "_view_count": null,
            "_view_module": "@jupyter-widgets/controls",
            "_view_module_version": "1.5.0",
            "_view_name": "HTMLView",
            "description": "",
            "description_tooltip": null,
            "layout": "IPY_MODEL_89906f54ce024ad2bc82ee4dc8d496fd",
            "placeholder": "​",
            "style": "IPY_MODEL_ec7d24f76eec431689d1c5a9532eba3a",
            "value": "tokenizer_config.json: 100%"
          }
        },
        "a7e549d50baa4a818c985410b40beff2": {
          "model_module": "@jupyter-widgets/controls",
          "model_name": "FloatProgressModel",
          "model_module_version": "1.5.0",
          "state": {
            "_dom_classes": [],
            "_model_module": "@jupyter-widgets/controls",
            "_model_module_version": "1.5.0",
            "_model_name": "FloatProgressModel",
            "_view_count": null,
            "_view_module": "@jupyter-widgets/controls",
            "_view_module_version": "1.5.0",
            "_view_name": "ProgressView",
            "bar_style": "success",
            "description": "",
            "description_tooltip": null,
            "layout": "IPY_MODEL_02c7bf808b3e412c83812268d72d7e14",
            "max": 48,
            "min": 0,
            "orientation": "horizontal",
            "style": "IPY_MODEL_3d1ea0b83ca8491ebed1927aef629696",
            "value": 48
          }
        },
        "35eba975499346cababe108e905579d3": {
          "model_module": "@jupyter-widgets/controls",
          "model_name": "HTMLModel",
          "model_module_version": "1.5.0",
          "state": {
            "_dom_classes": [],
            "_model_module": "@jupyter-widgets/controls",
            "_model_module_version": "1.5.0",
            "_model_name": "HTMLModel",
            "_view_count": null,
            "_view_module": "@jupyter-widgets/controls",
            "_view_module_version": "1.5.0",
            "_view_name": "HTMLView",
            "description": "",
            "description_tooltip": null,
            "layout": "IPY_MODEL_34d33ba014fc47779272f555f2ef094a",
            "placeholder": "​",
            "style": "IPY_MODEL_617b477d5bbd46999d48fd02580ebd0a",
            "value": " 48.0/48.0 [00:00&lt;00:00, 1.40kB/s]"
          }
        },
        "49476e933df6446cbd3bded6d1847b22": {
          "model_module": "@jupyter-widgets/base",
          "model_name": "LayoutModel",
          "model_module_version": "1.2.0",
          "state": {
            "_model_module": "@jupyter-widgets/base",
            "_model_module_version": "1.2.0",
            "_model_name": "LayoutModel",
            "_view_count": null,
            "_view_module": "@jupyter-widgets/base",
            "_view_module_version": "1.2.0",
            "_view_name": "LayoutView",
            "align_content": null,
            "align_items": null,
            "align_self": null,
            "border": null,
            "bottom": null,
            "display": null,
            "flex": null,
            "flex_flow": null,
            "grid_area": null,
            "grid_auto_columns": null,
            "grid_auto_flow": null,
            "grid_auto_rows": null,
            "grid_column": null,
            "grid_gap": null,
            "grid_row": null,
            "grid_template_areas": null,
            "grid_template_columns": null,
            "grid_template_rows": null,
            "height": null,
            "justify_content": null,
            "justify_items": null,
            "left": null,
            "margin": null,
            "max_height": null,
            "max_width": null,
            "min_height": null,
            "min_width": null,
            "object_fit": null,
            "object_position": null,
            "order": null,
            "overflow": null,
            "overflow_x": null,
            "overflow_y": null,
            "padding": null,
            "right": null,
            "top": null,
            "visibility": null,
            "width": null
          }
        },
        "89906f54ce024ad2bc82ee4dc8d496fd": {
          "model_module": "@jupyter-widgets/base",
          "model_name": "LayoutModel",
          "model_module_version": "1.2.0",
          "state": {
            "_model_module": "@jupyter-widgets/base",
            "_model_module_version": "1.2.0",
            "_model_name": "LayoutModel",
            "_view_count": null,
            "_view_module": "@jupyter-widgets/base",
            "_view_module_version": "1.2.0",
            "_view_name": "LayoutView",
            "align_content": null,
            "align_items": null,
            "align_self": null,
            "border": null,
            "bottom": null,
            "display": null,
            "flex": null,
            "flex_flow": null,
            "grid_area": null,
            "grid_auto_columns": null,
            "grid_auto_flow": null,
            "grid_auto_rows": null,
            "grid_column": null,
            "grid_gap": null,
            "grid_row": null,
            "grid_template_areas": null,
            "grid_template_columns": null,
            "grid_template_rows": null,
            "height": null,
            "justify_content": null,
            "justify_items": null,
            "left": null,
            "margin": null,
            "max_height": null,
            "max_width": null,
            "min_height": null,
            "min_width": null,
            "object_fit": null,
            "object_position": null,
            "order": null,
            "overflow": null,
            "overflow_x": null,
            "overflow_y": null,
            "padding": null,
            "right": null,
            "top": null,
            "visibility": null,
            "width": null
          }
        },
        "ec7d24f76eec431689d1c5a9532eba3a": {
          "model_module": "@jupyter-widgets/controls",
          "model_name": "DescriptionStyleModel",
          "model_module_version": "1.5.0",
          "state": {
            "_model_module": "@jupyter-widgets/controls",
            "_model_module_version": "1.5.0",
            "_model_name": "DescriptionStyleModel",
            "_view_count": null,
            "_view_module": "@jupyter-widgets/base",
            "_view_module_version": "1.2.0",
            "_view_name": "StyleView",
            "description_width": ""
          }
        },
        "02c7bf808b3e412c83812268d72d7e14": {
          "model_module": "@jupyter-widgets/base",
          "model_name": "LayoutModel",
          "model_module_version": "1.2.0",
          "state": {
            "_model_module": "@jupyter-widgets/base",
            "_model_module_version": "1.2.0",
            "_model_name": "LayoutModel",
            "_view_count": null,
            "_view_module": "@jupyter-widgets/base",
            "_view_module_version": "1.2.0",
            "_view_name": "LayoutView",
            "align_content": null,
            "align_items": null,
            "align_self": null,
            "border": null,
            "bottom": null,
            "display": null,
            "flex": null,
            "flex_flow": null,
            "grid_area": null,
            "grid_auto_columns": null,
            "grid_auto_flow": null,
            "grid_auto_rows": null,
            "grid_column": null,
            "grid_gap": null,
            "grid_row": null,
            "grid_template_areas": null,
            "grid_template_columns": null,
            "grid_template_rows": null,
            "height": null,
            "justify_content": null,
            "justify_items": null,
            "left": null,
            "margin": null,
            "max_height": null,
            "max_width": null,
            "min_height": null,
            "min_width": null,
            "object_fit": null,
            "object_position": null,
            "order": null,
            "overflow": null,
            "overflow_x": null,
            "overflow_y": null,
            "padding": null,
            "right": null,
            "top": null,
            "visibility": null,
            "width": null
          }
        },
        "3d1ea0b83ca8491ebed1927aef629696": {
          "model_module": "@jupyter-widgets/controls",
          "model_name": "ProgressStyleModel",
          "model_module_version": "1.5.0",
          "state": {
            "_model_module": "@jupyter-widgets/controls",
            "_model_module_version": "1.5.0",
            "_model_name": "ProgressStyleModel",
            "_view_count": null,
            "_view_module": "@jupyter-widgets/base",
            "_view_module_version": "1.2.0",
            "_view_name": "StyleView",
            "bar_color": null,
            "description_width": ""
          }
        },
        "34d33ba014fc47779272f555f2ef094a": {
          "model_module": "@jupyter-widgets/base",
          "model_name": "LayoutModel",
          "model_module_version": "1.2.0",
          "state": {
            "_model_module": "@jupyter-widgets/base",
            "_model_module_version": "1.2.0",
            "_model_name": "LayoutModel",
            "_view_count": null,
            "_view_module": "@jupyter-widgets/base",
            "_view_module_version": "1.2.0",
            "_view_name": "LayoutView",
            "align_content": null,
            "align_items": null,
            "align_self": null,
            "border": null,
            "bottom": null,
            "display": null,
            "flex": null,
            "flex_flow": null,
            "grid_area": null,
            "grid_auto_columns": null,
            "grid_auto_flow": null,
            "grid_auto_rows": null,
            "grid_column": null,
            "grid_gap": null,
            "grid_row": null,
            "grid_template_areas": null,
            "grid_template_columns": null,
            "grid_template_rows": null,
            "height": null,
            "justify_content": null,
            "justify_items": null,
            "left": null,
            "margin": null,
            "max_height": null,
            "max_width": null,
            "min_height": null,
            "min_width": null,
            "object_fit": null,
            "object_position": null,
            "order": null,
            "overflow": null,
            "overflow_x": null,
            "overflow_y": null,
            "padding": null,
            "right": null,
            "top": null,
            "visibility": null,
            "width": null
          }
        },
        "617b477d5bbd46999d48fd02580ebd0a": {
          "model_module": "@jupyter-widgets/controls",
          "model_name": "DescriptionStyleModel",
          "model_module_version": "1.5.0",
          "state": {
            "_model_module": "@jupyter-widgets/controls",
            "_model_module_version": "1.5.0",
            "_model_name": "DescriptionStyleModel",
            "_view_count": null,
            "_view_module": "@jupyter-widgets/base",
            "_view_module_version": "1.2.0",
            "_view_name": "StyleView",
            "description_width": ""
          }
        },
        "c0b3ad4244e648968bfc6446dce6caa6": {
          "model_module": "@jupyter-widgets/controls",
          "model_name": "HBoxModel",
          "model_module_version": "1.5.0",
          "state": {
            "_dom_classes": [],
            "_model_module": "@jupyter-widgets/controls",
            "_model_module_version": "1.5.0",
            "_model_name": "HBoxModel",
            "_view_count": null,
            "_view_module": "@jupyter-widgets/controls",
            "_view_module_version": "1.5.0",
            "_view_name": "HBoxView",
            "box_style": "",
            "children": [
              "IPY_MODEL_cd722ffbac8d4798a9932768f2481e0d",
              "IPY_MODEL_a56587baf55a40179e2970d1d0aa455e",
              "IPY_MODEL_9aebcb8e75e54fb0a430f26e9631af0d"
            ],
            "layout": "IPY_MODEL_56d3d69d844d478ca74ab32ed3a40784"
          }
        },
        "cd722ffbac8d4798a9932768f2481e0d": {
          "model_module": "@jupyter-widgets/controls",
          "model_name": "HTMLModel",
          "model_module_version": "1.5.0",
          "state": {
            "_dom_classes": [],
            "_model_module": "@jupyter-widgets/controls",
            "_model_module_version": "1.5.0",
            "_model_name": "HTMLModel",
            "_view_count": null,
            "_view_module": "@jupyter-widgets/controls",
            "_view_module_version": "1.5.0",
            "_view_name": "HTMLView",
            "description": "",
            "description_tooltip": null,
            "layout": "IPY_MODEL_f34d31a1cc8b4b4dae4d6061c3f6f667",
            "placeholder": "​",
            "style": "IPY_MODEL_cca8b1ce18b1455cb8344b7dc3d8ea52",
            "value": "vocab.txt: 100%"
          }
        },
        "a56587baf55a40179e2970d1d0aa455e": {
          "model_module": "@jupyter-widgets/controls",
          "model_name": "FloatProgressModel",
          "model_module_version": "1.5.0",
          "state": {
            "_dom_classes": [],
            "_model_module": "@jupyter-widgets/controls",
            "_model_module_version": "1.5.0",
            "_model_name": "FloatProgressModel",
            "_view_count": null,
            "_view_module": "@jupyter-widgets/controls",
            "_view_module_version": "1.5.0",
            "_view_name": "ProgressView",
            "bar_style": "success",
            "description": "",
            "description_tooltip": null,
            "layout": "IPY_MODEL_619a5f049b8a4984bbad610ad148f26b",
            "max": 231508,
            "min": 0,
            "orientation": "horizontal",
            "style": "IPY_MODEL_d0517c442368434d9fff401344c4cbe0",
            "value": 231508
          }
        },
        "9aebcb8e75e54fb0a430f26e9631af0d": {
          "model_module": "@jupyter-widgets/controls",
          "model_name": "HTMLModel",
          "model_module_version": "1.5.0",
          "state": {
            "_dom_classes": [],
            "_model_module": "@jupyter-widgets/controls",
            "_model_module_version": "1.5.0",
            "_model_name": "HTMLModel",
            "_view_count": null,
            "_view_module": "@jupyter-widgets/controls",
            "_view_module_version": "1.5.0",
            "_view_name": "HTMLView",
            "description": "",
            "description_tooltip": null,
            "layout": "IPY_MODEL_7b84a0c2344c4a8cbda0ef96d536d69d",
            "placeholder": "​",
            "style": "IPY_MODEL_a2197b333d6947ad95a7dbd1b0960c65",
            "value": " 232k/232k [00:00&lt;00:00, 2.08MB/s]"
          }
        },
        "56d3d69d844d478ca74ab32ed3a40784": {
          "model_module": "@jupyter-widgets/base",
          "model_name": "LayoutModel",
          "model_module_version": "1.2.0",
          "state": {
            "_model_module": "@jupyter-widgets/base",
            "_model_module_version": "1.2.0",
            "_model_name": "LayoutModel",
            "_view_count": null,
            "_view_module": "@jupyter-widgets/base",
            "_view_module_version": "1.2.0",
            "_view_name": "LayoutView",
            "align_content": null,
            "align_items": null,
            "align_self": null,
            "border": null,
            "bottom": null,
            "display": null,
            "flex": null,
            "flex_flow": null,
            "grid_area": null,
            "grid_auto_columns": null,
            "grid_auto_flow": null,
            "grid_auto_rows": null,
            "grid_column": null,
            "grid_gap": null,
            "grid_row": null,
            "grid_template_areas": null,
            "grid_template_columns": null,
            "grid_template_rows": null,
            "height": null,
            "justify_content": null,
            "justify_items": null,
            "left": null,
            "margin": null,
            "max_height": null,
            "max_width": null,
            "min_height": null,
            "min_width": null,
            "object_fit": null,
            "object_position": null,
            "order": null,
            "overflow": null,
            "overflow_x": null,
            "overflow_y": null,
            "padding": null,
            "right": null,
            "top": null,
            "visibility": null,
            "width": null
          }
        },
        "f34d31a1cc8b4b4dae4d6061c3f6f667": {
          "model_module": "@jupyter-widgets/base",
          "model_name": "LayoutModel",
          "model_module_version": "1.2.0",
          "state": {
            "_model_module": "@jupyter-widgets/base",
            "_model_module_version": "1.2.0",
            "_model_name": "LayoutModel",
            "_view_count": null,
            "_view_module": "@jupyter-widgets/base",
            "_view_module_version": "1.2.0",
            "_view_name": "LayoutView",
            "align_content": null,
            "align_items": null,
            "align_self": null,
            "border": null,
            "bottom": null,
            "display": null,
            "flex": null,
            "flex_flow": null,
            "grid_area": null,
            "grid_auto_columns": null,
            "grid_auto_flow": null,
            "grid_auto_rows": null,
            "grid_column": null,
            "grid_gap": null,
            "grid_row": null,
            "grid_template_areas": null,
            "grid_template_columns": null,
            "grid_template_rows": null,
            "height": null,
            "justify_content": null,
            "justify_items": null,
            "left": null,
            "margin": null,
            "max_height": null,
            "max_width": null,
            "min_height": null,
            "min_width": null,
            "object_fit": null,
            "object_position": null,
            "order": null,
            "overflow": null,
            "overflow_x": null,
            "overflow_y": null,
            "padding": null,
            "right": null,
            "top": null,
            "visibility": null,
            "width": null
          }
        },
        "cca8b1ce18b1455cb8344b7dc3d8ea52": {
          "model_module": "@jupyter-widgets/controls",
          "model_name": "DescriptionStyleModel",
          "model_module_version": "1.5.0",
          "state": {
            "_model_module": "@jupyter-widgets/controls",
            "_model_module_version": "1.5.0",
            "_model_name": "DescriptionStyleModel",
            "_view_count": null,
            "_view_module": "@jupyter-widgets/base",
            "_view_module_version": "1.2.0",
            "_view_name": "StyleView",
            "description_width": ""
          }
        },
        "619a5f049b8a4984bbad610ad148f26b": {
          "model_module": "@jupyter-widgets/base",
          "model_name": "LayoutModel",
          "model_module_version": "1.2.0",
          "state": {
            "_model_module": "@jupyter-widgets/base",
            "_model_module_version": "1.2.0",
            "_model_name": "LayoutModel",
            "_view_count": null,
            "_view_module": "@jupyter-widgets/base",
            "_view_module_version": "1.2.0",
            "_view_name": "LayoutView",
            "align_content": null,
            "align_items": null,
            "align_self": null,
            "border": null,
            "bottom": null,
            "display": null,
            "flex": null,
            "flex_flow": null,
            "grid_area": null,
            "grid_auto_columns": null,
            "grid_auto_flow": null,
            "grid_auto_rows": null,
            "grid_column": null,
            "grid_gap": null,
            "grid_row": null,
            "grid_template_areas": null,
            "grid_template_columns": null,
            "grid_template_rows": null,
            "height": null,
            "justify_content": null,
            "justify_items": null,
            "left": null,
            "margin": null,
            "max_height": null,
            "max_width": null,
            "min_height": null,
            "min_width": null,
            "object_fit": null,
            "object_position": null,
            "order": null,
            "overflow": null,
            "overflow_x": null,
            "overflow_y": null,
            "padding": null,
            "right": null,
            "top": null,
            "visibility": null,
            "width": null
          }
        },
        "d0517c442368434d9fff401344c4cbe0": {
          "model_module": "@jupyter-widgets/controls",
          "model_name": "ProgressStyleModel",
          "model_module_version": "1.5.0",
          "state": {
            "_model_module": "@jupyter-widgets/controls",
            "_model_module_version": "1.5.0",
            "_model_name": "ProgressStyleModel",
            "_view_count": null,
            "_view_module": "@jupyter-widgets/base",
            "_view_module_version": "1.2.0",
            "_view_name": "StyleView",
            "bar_color": null,
            "description_width": ""
          }
        },
        "7b84a0c2344c4a8cbda0ef96d536d69d": {
          "model_module": "@jupyter-widgets/base",
          "model_name": "LayoutModel",
          "model_module_version": "1.2.0",
          "state": {
            "_model_module": "@jupyter-widgets/base",
            "_model_module_version": "1.2.0",
            "_model_name": "LayoutModel",
            "_view_count": null,
            "_view_module": "@jupyter-widgets/base",
            "_view_module_version": "1.2.0",
            "_view_name": "LayoutView",
            "align_content": null,
            "align_items": null,
            "align_self": null,
            "border": null,
            "bottom": null,
            "display": null,
            "flex": null,
            "flex_flow": null,
            "grid_area": null,
            "grid_auto_columns": null,
            "grid_auto_flow": null,
            "grid_auto_rows": null,
            "grid_column": null,
            "grid_gap": null,
            "grid_row": null,
            "grid_template_areas": null,
            "grid_template_columns": null,
            "grid_template_rows": null,
            "height": null,
            "justify_content": null,
            "justify_items": null,
            "left": null,
            "margin": null,
            "max_height": null,
            "max_width": null,
            "min_height": null,
            "min_width": null,
            "object_fit": null,
            "object_position": null,
            "order": null,
            "overflow": null,
            "overflow_x": null,
            "overflow_y": null,
            "padding": null,
            "right": null,
            "top": null,
            "visibility": null,
            "width": null
          }
        },
        "a2197b333d6947ad95a7dbd1b0960c65": {
          "model_module": "@jupyter-widgets/controls",
          "model_name": "DescriptionStyleModel",
          "model_module_version": "1.5.0",
          "state": {
            "_model_module": "@jupyter-widgets/controls",
            "_model_module_version": "1.5.0",
            "_model_name": "DescriptionStyleModel",
            "_view_count": null,
            "_view_module": "@jupyter-widgets/base",
            "_view_module_version": "1.2.0",
            "_view_name": "StyleView",
            "description_width": ""
          }
        },
        "86a3164d2e1e48fd948f33ba335bf81f": {
          "model_module": "@jupyter-widgets/controls",
          "model_name": "HBoxModel",
          "model_module_version": "1.5.0",
          "state": {
            "_dom_classes": [],
            "_model_module": "@jupyter-widgets/controls",
            "_model_module_version": "1.5.0",
            "_model_name": "HBoxModel",
            "_view_count": null,
            "_view_module": "@jupyter-widgets/controls",
            "_view_module_version": "1.5.0",
            "_view_name": "HBoxView",
            "box_style": "",
            "children": [
              "IPY_MODEL_c965772dfc3446bda0fc9e21d040bc5c",
              "IPY_MODEL_b78750df13a74e88a2be93ec37c88ebd",
              "IPY_MODEL_5b9d898dc0fd4288ab0876b60424bdb0"
            ],
            "layout": "IPY_MODEL_172efa676e654fcbb0653371e017493a"
          }
        },
        "c965772dfc3446bda0fc9e21d040bc5c": {
          "model_module": "@jupyter-widgets/controls",
          "model_name": "HTMLModel",
          "model_module_version": "1.5.0",
          "state": {
            "_dom_classes": [],
            "_model_module": "@jupyter-widgets/controls",
            "_model_module_version": "1.5.0",
            "_model_name": "HTMLModel",
            "_view_count": null,
            "_view_module": "@jupyter-widgets/controls",
            "_view_module_version": "1.5.0",
            "_view_name": "HTMLView",
            "description": "",
            "description_tooltip": null,
            "layout": "IPY_MODEL_af4a9dea203b4d5eafbea9a68e90ac65",
            "placeholder": "​",
            "style": "IPY_MODEL_c36d70ecb1ad4b51b93ee5202b12a885",
            "value": "tokenizer.json: 100%"
          }
        },
        "b78750df13a74e88a2be93ec37c88ebd": {
          "model_module": "@jupyter-widgets/controls",
          "model_name": "FloatProgressModel",
          "model_module_version": "1.5.0",
          "state": {
            "_dom_classes": [],
            "_model_module": "@jupyter-widgets/controls",
            "_model_module_version": "1.5.0",
            "_model_name": "FloatProgressModel",
            "_view_count": null,
            "_view_module": "@jupyter-widgets/controls",
            "_view_module_version": "1.5.0",
            "_view_name": "ProgressView",
            "bar_style": "success",
            "description": "",
            "description_tooltip": null,
            "layout": "IPY_MODEL_bac91a4252f54670a000a4d8a16f16e2",
            "max": 466062,
            "min": 0,
            "orientation": "horizontal",
            "style": "IPY_MODEL_497ef63a853646138e2ad924156d6265",
            "value": 466062
          }
        },
        "5b9d898dc0fd4288ab0876b60424bdb0": {
          "model_module": "@jupyter-widgets/controls",
          "model_name": "HTMLModel",
          "model_module_version": "1.5.0",
          "state": {
            "_dom_classes": [],
            "_model_module": "@jupyter-widgets/controls",
            "_model_module_version": "1.5.0",
            "_model_name": "HTMLModel",
            "_view_count": null,
            "_view_module": "@jupyter-widgets/controls",
            "_view_module_version": "1.5.0",
            "_view_name": "HTMLView",
            "description": "",
            "description_tooltip": null,
            "layout": "IPY_MODEL_fa568ea35c3c4e84bed07227d43aa89e",
            "placeholder": "​",
            "style": "IPY_MODEL_21a4f960e5794ddb8c1d26c75aa46cdc",
            "value": " 466k/466k [00:00&lt;00:00, 3.60MB/s]"
          }
        },
        "172efa676e654fcbb0653371e017493a": {
          "model_module": "@jupyter-widgets/base",
          "model_name": "LayoutModel",
          "model_module_version": "1.2.0",
          "state": {
            "_model_module": "@jupyter-widgets/base",
            "_model_module_version": "1.2.0",
            "_model_name": "LayoutModel",
            "_view_count": null,
            "_view_module": "@jupyter-widgets/base",
            "_view_module_version": "1.2.0",
            "_view_name": "LayoutView",
            "align_content": null,
            "align_items": null,
            "align_self": null,
            "border": null,
            "bottom": null,
            "display": null,
            "flex": null,
            "flex_flow": null,
            "grid_area": null,
            "grid_auto_columns": null,
            "grid_auto_flow": null,
            "grid_auto_rows": null,
            "grid_column": null,
            "grid_gap": null,
            "grid_row": null,
            "grid_template_areas": null,
            "grid_template_columns": null,
            "grid_template_rows": null,
            "height": null,
            "justify_content": null,
            "justify_items": null,
            "left": null,
            "margin": null,
            "max_height": null,
            "max_width": null,
            "min_height": null,
            "min_width": null,
            "object_fit": null,
            "object_position": null,
            "order": null,
            "overflow": null,
            "overflow_x": null,
            "overflow_y": null,
            "padding": null,
            "right": null,
            "top": null,
            "visibility": null,
            "width": null
          }
        },
        "af4a9dea203b4d5eafbea9a68e90ac65": {
          "model_module": "@jupyter-widgets/base",
          "model_name": "LayoutModel",
          "model_module_version": "1.2.0",
          "state": {
            "_model_module": "@jupyter-widgets/base",
            "_model_module_version": "1.2.0",
            "_model_name": "LayoutModel",
            "_view_count": null,
            "_view_module": "@jupyter-widgets/base",
            "_view_module_version": "1.2.0",
            "_view_name": "LayoutView",
            "align_content": null,
            "align_items": null,
            "align_self": null,
            "border": null,
            "bottom": null,
            "display": null,
            "flex": null,
            "flex_flow": null,
            "grid_area": null,
            "grid_auto_columns": null,
            "grid_auto_flow": null,
            "grid_auto_rows": null,
            "grid_column": null,
            "grid_gap": null,
            "grid_row": null,
            "grid_template_areas": null,
            "grid_template_columns": null,
            "grid_template_rows": null,
            "height": null,
            "justify_content": null,
            "justify_items": null,
            "left": null,
            "margin": null,
            "max_height": null,
            "max_width": null,
            "min_height": null,
            "min_width": null,
            "object_fit": null,
            "object_position": null,
            "order": null,
            "overflow": null,
            "overflow_x": null,
            "overflow_y": null,
            "padding": null,
            "right": null,
            "top": null,
            "visibility": null,
            "width": null
          }
        },
        "c36d70ecb1ad4b51b93ee5202b12a885": {
          "model_module": "@jupyter-widgets/controls",
          "model_name": "DescriptionStyleModel",
          "model_module_version": "1.5.0",
          "state": {
            "_model_module": "@jupyter-widgets/controls",
            "_model_module_version": "1.5.0",
            "_model_name": "DescriptionStyleModel",
            "_view_count": null,
            "_view_module": "@jupyter-widgets/base",
            "_view_module_version": "1.2.0",
            "_view_name": "StyleView",
            "description_width": ""
          }
        },
        "bac91a4252f54670a000a4d8a16f16e2": {
          "model_module": "@jupyter-widgets/base",
          "model_name": "LayoutModel",
          "model_module_version": "1.2.0",
          "state": {
            "_model_module": "@jupyter-widgets/base",
            "_model_module_version": "1.2.0",
            "_model_name": "LayoutModel",
            "_view_count": null,
            "_view_module": "@jupyter-widgets/base",
            "_view_module_version": "1.2.0",
            "_view_name": "LayoutView",
            "align_content": null,
            "align_items": null,
            "align_self": null,
            "border": null,
            "bottom": null,
            "display": null,
            "flex": null,
            "flex_flow": null,
            "grid_area": null,
            "grid_auto_columns": null,
            "grid_auto_flow": null,
            "grid_auto_rows": null,
            "grid_column": null,
            "grid_gap": null,
            "grid_row": null,
            "grid_template_areas": null,
            "grid_template_columns": null,
            "grid_template_rows": null,
            "height": null,
            "justify_content": null,
            "justify_items": null,
            "left": null,
            "margin": null,
            "max_height": null,
            "max_width": null,
            "min_height": null,
            "min_width": null,
            "object_fit": null,
            "object_position": null,
            "order": null,
            "overflow": null,
            "overflow_x": null,
            "overflow_y": null,
            "padding": null,
            "right": null,
            "top": null,
            "visibility": null,
            "width": null
          }
        },
        "497ef63a853646138e2ad924156d6265": {
          "model_module": "@jupyter-widgets/controls",
          "model_name": "ProgressStyleModel",
          "model_module_version": "1.5.0",
          "state": {
            "_model_module": "@jupyter-widgets/controls",
            "_model_module_version": "1.5.0",
            "_model_name": "ProgressStyleModel",
            "_view_count": null,
            "_view_module": "@jupyter-widgets/base",
            "_view_module_version": "1.2.0",
            "_view_name": "StyleView",
            "bar_color": null,
            "description_width": ""
          }
        },
        "fa568ea35c3c4e84bed07227d43aa89e": {
          "model_module": "@jupyter-widgets/base",
          "model_name": "LayoutModel",
          "model_module_version": "1.2.0",
          "state": {
            "_model_module": "@jupyter-widgets/base",
            "_model_module_version": "1.2.0",
            "_model_name": "LayoutModel",
            "_view_count": null,
            "_view_module": "@jupyter-widgets/base",
            "_view_module_version": "1.2.0",
            "_view_name": "LayoutView",
            "align_content": null,
            "align_items": null,
            "align_self": null,
            "border": null,
            "bottom": null,
            "display": null,
            "flex": null,
            "flex_flow": null,
            "grid_area": null,
            "grid_auto_columns": null,
            "grid_auto_flow": null,
            "grid_auto_rows": null,
            "grid_column": null,
            "grid_gap": null,
            "grid_row": null,
            "grid_template_areas": null,
            "grid_template_columns": null,
            "grid_template_rows": null,
            "height": null,
            "justify_content": null,
            "justify_items": null,
            "left": null,
            "margin": null,
            "max_height": null,
            "max_width": null,
            "min_height": null,
            "min_width": null,
            "object_fit": null,
            "object_position": null,
            "order": null,
            "overflow": null,
            "overflow_x": null,
            "overflow_y": null,
            "padding": null,
            "right": null,
            "top": null,
            "visibility": null,
            "width": null
          }
        },
        "21a4f960e5794ddb8c1d26c75aa46cdc": {
          "model_module": "@jupyter-widgets/controls",
          "model_name": "DescriptionStyleModel",
          "model_module_version": "1.5.0",
          "state": {
            "_model_module": "@jupyter-widgets/controls",
            "_model_module_version": "1.5.0",
            "_model_name": "DescriptionStyleModel",
            "_view_count": null,
            "_view_module": "@jupyter-widgets/base",
            "_view_module_version": "1.2.0",
            "_view_name": "StyleView",
            "description_width": ""
          }
        },
        "06a338dc7b46465090812d603c95896a": {
          "model_module": "@jupyter-widgets/controls",
          "model_name": "HBoxModel",
          "model_module_version": "1.5.0",
          "state": {
            "_dom_classes": [],
            "_model_module": "@jupyter-widgets/controls",
            "_model_module_version": "1.5.0",
            "_model_name": "HBoxModel",
            "_view_count": null,
            "_view_module": "@jupyter-widgets/controls",
            "_view_module_version": "1.5.0",
            "_view_name": "HBoxView",
            "box_style": "",
            "children": [
              "IPY_MODEL_7f9254a9572d49cfa56a7fad7ca7583e",
              "IPY_MODEL_64be35916cfa4126aeadfe27270b8011",
              "IPY_MODEL_5ac0658be4464ae8acc424bc1b720167"
            ],
            "layout": "IPY_MODEL_5ca0f3c262784b85b0b944054509a3bd"
          }
        },
        "7f9254a9572d49cfa56a7fad7ca7583e": {
          "model_module": "@jupyter-widgets/controls",
          "model_name": "HTMLModel",
          "model_module_version": "1.5.0",
          "state": {
            "_dom_classes": [],
            "_model_module": "@jupyter-widgets/controls",
            "_model_module_version": "1.5.0",
            "_model_name": "HTMLModel",
            "_view_count": null,
            "_view_module": "@jupyter-widgets/controls",
            "_view_module_version": "1.5.0",
            "_view_name": "HTMLView",
            "description": "",
            "description_tooltip": null,
            "layout": "IPY_MODEL_50bbbb6428cf469fac960d83b5d403f9",
            "placeholder": "​",
            "style": "IPY_MODEL_30c9cdaeca1446d589b5c44e903b45b5",
            "value": "config.json: 100%"
          }
        },
        "64be35916cfa4126aeadfe27270b8011": {
          "model_module": "@jupyter-widgets/controls",
          "model_name": "FloatProgressModel",
          "model_module_version": "1.5.0",
          "state": {
            "_dom_classes": [],
            "_model_module": "@jupyter-widgets/controls",
            "_model_module_version": "1.5.0",
            "_model_name": "FloatProgressModel",
            "_view_count": null,
            "_view_module": "@jupyter-widgets/controls",
            "_view_module_version": "1.5.0",
            "_view_name": "ProgressView",
            "bar_style": "success",
            "description": "",
            "description_tooltip": null,
            "layout": "IPY_MODEL_dd2a46ad14ec420f9522eb1892ab20e5",
            "max": 570,
            "min": 0,
            "orientation": "horizontal",
            "style": "IPY_MODEL_5d830024c2be4f338eb178a99c376740",
            "value": 570
          }
        },
        "5ac0658be4464ae8acc424bc1b720167": {
          "model_module": "@jupyter-widgets/controls",
          "model_name": "HTMLModel",
          "model_module_version": "1.5.0",
          "state": {
            "_dom_classes": [],
            "_model_module": "@jupyter-widgets/controls",
            "_model_module_version": "1.5.0",
            "_model_name": "HTMLModel",
            "_view_count": null,
            "_view_module": "@jupyter-widgets/controls",
            "_view_module_version": "1.5.0",
            "_view_name": "HTMLView",
            "description": "",
            "description_tooltip": null,
            "layout": "IPY_MODEL_8299d5ba7861429fb28bfa263c19dc4d",
            "placeholder": "​",
            "style": "IPY_MODEL_46a03eabb1114368853e1444a73f54a5",
            "value": " 570/570 [00:00&lt;00:00, 17.0kB/s]"
          }
        },
        "5ca0f3c262784b85b0b944054509a3bd": {
          "model_module": "@jupyter-widgets/base",
          "model_name": "LayoutModel",
          "model_module_version": "1.2.0",
          "state": {
            "_model_module": "@jupyter-widgets/base",
            "_model_module_version": "1.2.0",
            "_model_name": "LayoutModel",
            "_view_count": null,
            "_view_module": "@jupyter-widgets/base",
            "_view_module_version": "1.2.0",
            "_view_name": "LayoutView",
            "align_content": null,
            "align_items": null,
            "align_self": null,
            "border": null,
            "bottom": null,
            "display": null,
            "flex": null,
            "flex_flow": null,
            "grid_area": null,
            "grid_auto_columns": null,
            "grid_auto_flow": null,
            "grid_auto_rows": null,
            "grid_column": null,
            "grid_gap": null,
            "grid_row": null,
            "grid_template_areas": null,
            "grid_template_columns": null,
            "grid_template_rows": null,
            "height": null,
            "justify_content": null,
            "justify_items": null,
            "left": null,
            "margin": null,
            "max_height": null,
            "max_width": null,
            "min_height": null,
            "min_width": null,
            "object_fit": null,
            "object_position": null,
            "order": null,
            "overflow": null,
            "overflow_x": null,
            "overflow_y": null,
            "padding": null,
            "right": null,
            "top": null,
            "visibility": null,
            "width": null
          }
        },
        "50bbbb6428cf469fac960d83b5d403f9": {
          "model_module": "@jupyter-widgets/base",
          "model_name": "LayoutModel",
          "model_module_version": "1.2.0",
          "state": {
            "_model_module": "@jupyter-widgets/base",
            "_model_module_version": "1.2.0",
            "_model_name": "LayoutModel",
            "_view_count": null,
            "_view_module": "@jupyter-widgets/base",
            "_view_module_version": "1.2.0",
            "_view_name": "LayoutView",
            "align_content": null,
            "align_items": null,
            "align_self": null,
            "border": null,
            "bottom": null,
            "display": null,
            "flex": null,
            "flex_flow": null,
            "grid_area": null,
            "grid_auto_columns": null,
            "grid_auto_flow": null,
            "grid_auto_rows": null,
            "grid_column": null,
            "grid_gap": null,
            "grid_row": null,
            "grid_template_areas": null,
            "grid_template_columns": null,
            "grid_template_rows": null,
            "height": null,
            "justify_content": null,
            "justify_items": null,
            "left": null,
            "margin": null,
            "max_height": null,
            "max_width": null,
            "min_height": null,
            "min_width": null,
            "object_fit": null,
            "object_position": null,
            "order": null,
            "overflow": null,
            "overflow_x": null,
            "overflow_y": null,
            "padding": null,
            "right": null,
            "top": null,
            "visibility": null,
            "width": null
          }
        },
        "30c9cdaeca1446d589b5c44e903b45b5": {
          "model_module": "@jupyter-widgets/controls",
          "model_name": "DescriptionStyleModel",
          "model_module_version": "1.5.0",
          "state": {
            "_model_module": "@jupyter-widgets/controls",
            "_model_module_version": "1.5.0",
            "_model_name": "DescriptionStyleModel",
            "_view_count": null,
            "_view_module": "@jupyter-widgets/base",
            "_view_module_version": "1.2.0",
            "_view_name": "StyleView",
            "description_width": ""
          }
        },
        "dd2a46ad14ec420f9522eb1892ab20e5": {
          "model_module": "@jupyter-widgets/base",
          "model_name": "LayoutModel",
          "model_module_version": "1.2.0",
          "state": {
            "_model_module": "@jupyter-widgets/base",
            "_model_module_version": "1.2.0",
            "_model_name": "LayoutModel",
            "_view_count": null,
            "_view_module": "@jupyter-widgets/base",
            "_view_module_version": "1.2.0",
            "_view_name": "LayoutView",
            "align_content": null,
            "align_items": null,
            "align_self": null,
            "border": null,
            "bottom": null,
            "display": null,
            "flex": null,
            "flex_flow": null,
            "grid_area": null,
            "grid_auto_columns": null,
            "grid_auto_flow": null,
            "grid_auto_rows": null,
            "grid_column": null,
            "grid_gap": null,
            "grid_row": null,
            "grid_template_areas": null,
            "grid_template_columns": null,
            "grid_template_rows": null,
            "height": null,
            "justify_content": null,
            "justify_items": null,
            "left": null,
            "margin": null,
            "max_height": null,
            "max_width": null,
            "min_height": null,
            "min_width": null,
            "object_fit": null,
            "object_position": null,
            "order": null,
            "overflow": null,
            "overflow_x": null,
            "overflow_y": null,
            "padding": null,
            "right": null,
            "top": null,
            "visibility": null,
            "width": null
          }
        },
        "5d830024c2be4f338eb178a99c376740": {
          "model_module": "@jupyter-widgets/controls",
          "model_name": "ProgressStyleModel",
          "model_module_version": "1.5.0",
          "state": {
            "_model_module": "@jupyter-widgets/controls",
            "_model_module_version": "1.5.0",
            "_model_name": "ProgressStyleModel",
            "_view_count": null,
            "_view_module": "@jupyter-widgets/base",
            "_view_module_version": "1.2.0",
            "_view_name": "StyleView",
            "bar_color": null,
            "description_width": ""
          }
        },
        "8299d5ba7861429fb28bfa263c19dc4d": {
          "model_module": "@jupyter-widgets/base",
          "model_name": "LayoutModel",
          "model_module_version": "1.2.0",
          "state": {
            "_model_module": "@jupyter-widgets/base",
            "_model_module_version": "1.2.0",
            "_model_name": "LayoutModel",
            "_view_count": null,
            "_view_module": "@jupyter-widgets/base",
            "_view_module_version": "1.2.0",
            "_view_name": "LayoutView",
            "align_content": null,
            "align_items": null,
            "align_self": null,
            "border": null,
            "bottom": null,
            "display": null,
            "flex": null,
            "flex_flow": null,
            "grid_area": null,
            "grid_auto_columns": null,
            "grid_auto_flow": null,
            "grid_auto_rows": null,
            "grid_column": null,
            "grid_gap": null,
            "grid_row": null,
            "grid_template_areas": null,
            "grid_template_columns": null,
            "grid_template_rows": null,
            "height": null,
            "justify_content": null,
            "justify_items": null,
            "left": null,
            "margin": null,
            "max_height": null,
            "max_width": null,
            "min_height": null,
            "min_width": null,
            "object_fit": null,
            "object_position": null,
            "order": null,
            "overflow": null,
            "overflow_x": null,
            "overflow_y": null,
            "padding": null,
            "right": null,
            "top": null,
            "visibility": null,
            "width": null
          }
        },
        "46a03eabb1114368853e1444a73f54a5": {
          "model_module": "@jupyter-widgets/controls",
          "model_name": "DescriptionStyleModel",
          "model_module_version": "1.5.0",
          "state": {
            "_model_module": "@jupyter-widgets/controls",
            "_model_module_version": "1.5.0",
            "_model_name": "DescriptionStyleModel",
            "_view_count": null,
            "_view_module": "@jupyter-widgets/base",
            "_view_module_version": "1.2.0",
            "_view_name": "StyleView",
            "description_width": ""
          }
        },
        "0e18f2f1fa4548268b9be63cc906bf8a": {
          "model_module": "@jupyter-widgets/controls",
          "model_name": "HBoxModel",
          "model_module_version": "1.5.0",
          "state": {
            "_dom_classes": [],
            "_model_module": "@jupyter-widgets/controls",
            "_model_module_version": "1.5.0",
            "_model_name": "HBoxModel",
            "_view_count": null,
            "_view_module": "@jupyter-widgets/controls",
            "_view_module_version": "1.5.0",
            "_view_name": "HBoxView",
            "box_style": "",
            "children": [
              "IPY_MODEL_4d5a323207f340df9fec353eb16c37a7",
              "IPY_MODEL_29c72b276fe549b2bdfb58dacb27fa4a",
              "IPY_MODEL_f91aba66e59d428d858ed9da45681c45"
            ],
            "layout": "IPY_MODEL_0f8260a144b2491c90ddf74cd1412b34"
          }
        },
        "4d5a323207f340df9fec353eb16c37a7": {
          "model_module": "@jupyter-widgets/controls",
          "model_name": "HTMLModel",
          "model_module_version": "1.5.0",
          "state": {
            "_dom_classes": [],
            "_model_module": "@jupyter-widgets/controls",
            "_model_module_version": "1.5.0",
            "_model_name": "HTMLModel",
            "_view_count": null,
            "_view_module": "@jupyter-widgets/controls",
            "_view_module_version": "1.5.0",
            "_view_name": "HTMLView",
            "description": "",
            "description_tooltip": null,
            "layout": "IPY_MODEL_72ebe0b23aae4de9828ecd111b1f520a",
            "placeholder": "​",
            "style": "IPY_MODEL_ba7f6abbee824908914c6805e73c25e4",
            "value": "model.safetensors: 100%"
          }
        },
        "29c72b276fe549b2bdfb58dacb27fa4a": {
          "model_module": "@jupyter-widgets/controls",
          "model_name": "FloatProgressModel",
          "model_module_version": "1.5.0",
          "state": {
            "_dom_classes": [],
            "_model_module": "@jupyter-widgets/controls",
            "_model_module_version": "1.5.0",
            "_model_name": "FloatProgressModel",
            "_view_count": null,
            "_view_module": "@jupyter-widgets/controls",
            "_view_module_version": "1.5.0",
            "_view_name": "ProgressView",
            "bar_style": "success",
            "description": "",
            "description_tooltip": null,
            "layout": "IPY_MODEL_309d3e2f21824a7bab5f48f5d8698f4d",
            "max": 440449768,
            "min": 0,
            "orientation": "horizontal",
            "style": "IPY_MODEL_24368bfe41af456288a89f91bc10c92e",
            "value": 440449768
          }
        },
        "f91aba66e59d428d858ed9da45681c45": {
          "model_module": "@jupyter-widgets/controls",
          "model_name": "HTMLModel",
          "model_module_version": "1.5.0",
          "state": {
            "_dom_classes": [],
            "_model_module": "@jupyter-widgets/controls",
            "_model_module_version": "1.5.0",
            "_model_name": "HTMLModel",
            "_view_count": null,
            "_view_module": "@jupyter-widgets/controls",
            "_view_module_version": "1.5.0",
            "_view_name": "HTMLView",
            "description": "",
            "description_tooltip": null,
            "layout": "IPY_MODEL_28b18127e2e74c7d999cc054d4caccda",
            "placeholder": "​",
            "style": "IPY_MODEL_c2adffe31ecd464e9971411dc9ea4b1c",
            "value": " 440M/440M [00:03&lt;00:00, 159MB/s]"
          }
        },
        "0f8260a144b2491c90ddf74cd1412b34": {
          "model_module": "@jupyter-widgets/base",
          "model_name": "LayoutModel",
          "model_module_version": "1.2.0",
          "state": {
            "_model_module": "@jupyter-widgets/base",
            "_model_module_version": "1.2.0",
            "_model_name": "LayoutModel",
            "_view_count": null,
            "_view_module": "@jupyter-widgets/base",
            "_view_module_version": "1.2.0",
            "_view_name": "LayoutView",
            "align_content": null,
            "align_items": null,
            "align_self": null,
            "border": null,
            "bottom": null,
            "display": null,
            "flex": null,
            "flex_flow": null,
            "grid_area": null,
            "grid_auto_columns": null,
            "grid_auto_flow": null,
            "grid_auto_rows": null,
            "grid_column": null,
            "grid_gap": null,
            "grid_row": null,
            "grid_template_areas": null,
            "grid_template_columns": null,
            "grid_template_rows": null,
            "height": null,
            "justify_content": null,
            "justify_items": null,
            "left": null,
            "margin": null,
            "max_height": null,
            "max_width": null,
            "min_height": null,
            "min_width": null,
            "object_fit": null,
            "object_position": null,
            "order": null,
            "overflow": null,
            "overflow_x": null,
            "overflow_y": null,
            "padding": null,
            "right": null,
            "top": null,
            "visibility": null,
            "width": null
          }
        },
        "72ebe0b23aae4de9828ecd111b1f520a": {
          "model_module": "@jupyter-widgets/base",
          "model_name": "LayoutModel",
          "model_module_version": "1.2.0",
          "state": {
            "_model_module": "@jupyter-widgets/base",
            "_model_module_version": "1.2.0",
            "_model_name": "LayoutModel",
            "_view_count": null,
            "_view_module": "@jupyter-widgets/base",
            "_view_module_version": "1.2.0",
            "_view_name": "LayoutView",
            "align_content": null,
            "align_items": null,
            "align_self": null,
            "border": null,
            "bottom": null,
            "display": null,
            "flex": null,
            "flex_flow": null,
            "grid_area": null,
            "grid_auto_columns": null,
            "grid_auto_flow": null,
            "grid_auto_rows": null,
            "grid_column": null,
            "grid_gap": null,
            "grid_row": null,
            "grid_template_areas": null,
            "grid_template_columns": null,
            "grid_template_rows": null,
            "height": null,
            "justify_content": null,
            "justify_items": null,
            "left": null,
            "margin": null,
            "max_height": null,
            "max_width": null,
            "min_height": null,
            "min_width": null,
            "object_fit": null,
            "object_position": null,
            "order": null,
            "overflow": null,
            "overflow_x": null,
            "overflow_y": null,
            "padding": null,
            "right": null,
            "top": null,
            "visibility": null,
            "width": null
          }
        },
        "ba7f6abbee824908914c6805e73c25e4": {
          "model_module": "@jupyter-widgets/controls",
          "model_name": "DescriptionStyleModel",
          "model_module_version": "1.5.0",
          "state": {
            "_model_module": "@jupyter-widgets/controls",
            "_model_module_version": "1.5.0",
            "_model_name": "DescriptionStyleModel",
            "_view_count": null,
            "_view_module": "@jupyter-widgets/base",
            "_view_module_version": "1.2.0",
            "_view_name": "StyleView",
            "description_width": ""
          }
        },
        "309d3e2f21824a7bab5f48f5d8698f4d": {
          "model_module": "@jupyter-widgets/base",
          "model_name": "LayoutModel",
          "model_module_version": "1.2.0",
          "state": {
            "_model_module": "@jupyter-widgets/base",
            "_model_module_version": "1.2.0",
            "_model_name": "LayoutModel",
            "_view_count": null,
            "_view_module": "@jupyter-widgets/base",
            "_view_module_version": "1.2.0",
            "_view_name": "LayoutView",
            "align_content": null,
            "align_items": null,
            "align_self": null,
            "border": null,
            "bottom": null,
            "display": null,
            "flex": null,
            "flex_flow": null,
            "grid_area": null,
            "grid_auto_columns": null,
            "grid_auto_flow": null,
            "grid_auto_rows": null,
            "grid_column": null,
            "grid_gap": null,
            "grid_row": null,
            "grid_template_areas": null,
            "grid_template_columns": null,
            "grid_template_rows": null,
            "height": null,
            "justify_content": null,
            "justify_items": null,
            "left": null,
            "margin": null,
            "max_height": null,
            "max_width": null,
            "min_height": null,
            "min_width": null,
            "object_fit": null,
            "object_position": null,
            "order": null,
            "overflow": null,
            "overflow_x": null,
            "overflow_y": null,
            "padding": null,
            "right": null,
            "top": null,
            "visibility": null,
            "width": null
          }
        },
        "24368bfe41af456288a89f91bc10c92e": {
          "model_module": "@jupyter-widgets/controls",
          "model_name": "ProgressStyleModel",
          "model_module_version": "1.5.0",
          "state": {
            "_model_module": "@jupyter-widgets/controls",
            "_model_module_version": "1.5.0",
            "_model_name": "ProgressStyleModel",
            "_view_count": null,
            "_view_module": "@jupyter-widgets/base",
            "_view_module_version": "1.2.0",
            "_view_name": "StyleView",
            "bar_color": null,
            "description_width": ""
          }
        },
        "28b18127e2e74c7d999cc054d4caccda": {
          "model_module": "@jupyter-widgets/base",
          "model_name": "LayoutModel",
          "model_module_version": "1.2.0",
          "state": {
            "_model_module": "@jupyter-widgets/base",
            "_model_module_version": "1.2.0",
            "_model_name": "LayoutModel",
            "_view_count": null,
            "_view_module": "@jupyter-widgets/base",
            "_view_module_version": "1.2.0",
            "_view_name": "LayoutView",
            "align_content": null,
            "align_items": null,
            "align_self": null,
            "border": null,
            "bottom": null,
            "display": null,
            "flex": null,
            "flex_flow": null,
            "grid_area": null,
            "grid_auto_columns": null,
            "grid_auto_flow": null,
            "grid_auto_rows": null,
            "grid_column": null,
            "grid_gap": null,
            "grid_row": null,
            "grid_template_areas": null,
            "grid_template_columns": null,
            "grid_template_rows": null,
            "height": null,
            "justify_content": null,
            "justify_items": null,
            "left": null,
            "margin": null,
            "max_height": null,
            "max_width": null,
            "min_height": null,
            "min_width": null,
            "object_fit": null,
            "object_position": null,
            "order": null,
            "overflow": null,
            "overflow_x": null,
            "overflow_y": null,
            "padding": null,
            "right": null,
            "top": null,
            "visibility": null,
            "width": null
          }
        },
        "c2adffe31ecd464e9971411dc9ea4b1c": {
          "model_module": "@jupyter-widgets/controls",
          "model_name": "DescriptionStyleModel",
          "model_module_version": "1.5.0",
          "state": {
            "_model_module": "@jupyter-widgets/controls",
            "_model_module_version": "1.5.0",
            "_model_name": "DescriptionStyleModel",
            "_view_count": null,
            "_view_module": "@jupyter-widgets/base",
            "_view_module_version": "1.2.0",
            "_view_name": "StyleView",
            "description_width": ""
          }
        }
      }
    }
  },
  "cells": [
    {
      "cell_type": "markdown",
      "metadata": {
        "id": "view-in-github",
        "colab_type": "text"
      },
      "source": [
        "<a href=\"https://colab.research.google.com/github/MoncefBahja/Deep-Learning-for-Arabic-Sentiment-Analysis/blob/main/Fine_Tuning_BERT.ipynb\" target=\"_parent\"><img src=\"https://colab.research.google.com/assets/colab-badge.svg\" alt=\"Open In Colab\"/></a>"
      ]
    },
    {
      "cell_type": "markdown",
      "source": [
        "## **Fine-Tuning BERT for Sentiment Analysis** 🚀\n",
        "\n",
        "Created by [moncef bahja](https://github.com/MoncefBahja) 🥰\n",
        "\n",
        "---\n",
        "Hey there! 👋 Today, we’re unleashing the power of **BERT**—specifically, the **[google-bert/bert-base-uncased](https://huggingface.co/google-bert/bert-base-uncased)** model—to tackle sentiment analysis like a pro! 💡  \n",
        "\n",
        "### What’s the Task?  \n",
        "We’re working with the **[Arabic 100k Reviews](https://www.kaggle.com/datasets/abedkhooli/arabic-100k-reviews)** dataset—a compilation of 100k (well, 99,999) Arabic reviews from hotels, books, movies, products, and airlines. Each review falls into one of three sentiment categories:  \n",
        "1️⃣ **Positive** 🌟  \n",
        "2️⃣ **Negative** 😠  \n",
        "3️⃣ **Mixed** 🤔  \n",
        "\n",
        "#### 📂 **About the Dataset**:  \n",
        "- **Content**: Each review includes a sentiment label (`Positive`, `Negative`, or `Mixed`) and the review text, **separated by tabs** (TSV format).  \n",
        "- **Processing**: Reviews were cleaned of diacritics and non-Arabic characters, ensuring high-quality data.  \n",
        "- **Balanced Classes**: No duplicate reviews, making it a robust dataset for classification tasks.  \n",
        "\n",
        "### Why Fine-Tune BERT?  \n",
        "BERT has a deep contextual understanding of text, but by fine-tuning it with our dataset, we’ll train it to recognize sentiment in Arabic reviews with precision.  \n",
        "\n",
        "### What to Expect?  \n",
        "1️⃣ **Load and explore the dataset** to understand what we’re working with.  \n",
        "2️⃣ **Prepare BERT for sentiment analysis**.  \n",
        "3️⃣ **Train and evaluate** our custom sentiment classifier.  \n",
        "\n",
        "Let’s turn these reviews into actionable insights! 🎉  \n"
      ],
      "metadata": {
        "id": "1wVm7ZxozkRG"
      }
    },
    {
      "cell_type": "markdown",
      "source": [
        "---\n",
        "\n",
        "## **1- Testing Results Before Fine-Tuning** 🛠️\n",
        "\n",
        "Before fine-tuning the BERT model on our sentiment analysis dataset, we’ll test the pre-trained version as-is. This helps us:\n",
        "\n",
        "Understand the baseline performance of the model.\n",
        "Compare results after we fine-tune the model.\n"
      ],
      "metadata": {
        "id": "u-aG2hKpJMOA"
      }
    },
    {
      "cell_type": "markdown",
      "source": [
        "### Step 1: Install Required Libraries\n",
        "To fine-tune BERT, we need the Hugging Face transformers library, which provides pre-trained models, tokenizers, and utilities for NLP tasks. Install it using pip."
      ],
      "metadata": {
        "id": "4S2Stvu9IgGE"
      }
    },
    {
      "cell_type": "code",
      "source": [
        "!pip install transformers"
      ],
      "metadata": {
        "colab": {
          "base_uri": "https://localhost:8080/"
        },
        "id": "Um8KNJky1W8S",
        "outputId": "6c8ffd1a-bc5f-4fb9-811e-17b47f7f204a"
      },
      "execution_count": null,
      "outputs": [
        {
          "output_type": "stream",
          "name": "stdout",
          "text": [
            "Requirement already satisfied: transformers in /usr/local/lib/python3.11/dist-packages (4.48.3)\n",
            "Requirement already satisfied: filelock in /usr/local/lib/python3.11/dist-packages (from transformers) (3.17.0)\n",
            "Requirement already satisfied: huggingface-hub<1.0,>=0.24.0 in /usr/local/lib/python3.11/dist-packages (from transformers) (0.28.1)\n",
            "Requirement already satisfied: numpy>=1.17 in /usr/local/lib/python3.11/dist-packages (from transformers) (1.26.4)\n",
            "Requirement already satisfied: packaging>=20.0 in /usr/local/lib/python3.11/dist-packages (from transformers) (24.2)\n",
            "Requirement already satisfied: pyyaml>=5.1 in /usr/local/lib/python3.11/dist-packages (from transformers) (6.0.2)\n",
            "Requirement already satisfied: regex!=2019.12.17 in /usr/local/lib/python3.11/dist-packages (from transformers) (2024.11.6)\n",
            "Requirement already satisfied: requests in /usr/local/lib/python3.11/dist-packages (from transformers) (2.32.3)\n",
            "Requirement already satisfied: tokenizers<0.22,>=0.21 in /usr/local/lib/python3.11/dist-packages (from transformers) (0.21.0)\n",
            "Requirement already satisfied: safetensors>=0.4.1 in /usr/local/lib/python3.11/dist-packages (from transformers) (0.5.2)\n",
            "Requirement already satisfied: tqdm>=4.27 in /usr/local/lib/python3.11/dist-packages (from transformers) (4.67.1)\n",
            "Requirement already satisfied: fsspec>=2023.5.0 in /usr/local/lib/python3.11/dist-packages (from huggingface-hub<1.0,>=0.24.0->transformers) (2024.10.0)\n",
            "Requirement already satisfied: typing-extensions>=3.7.4.3 in /usr/local/lib/python3.11/dist-packages (from huggingface-hub<1.0,>=0.24.0->transformers) (4.12.2)\n",
            "Requirement already satisfied: charset-normalizer<4,>=2 in /usr/local/lib/python3.11/dist-packages (from requests->transformers) (3.4.1)\n",
            "Requirement already satisfied: idna<4,>=2.5 in /usr/local/lib/python3.11/dist-packages (from requests->transformers) (3.10)\n",
            "Requirement already satisfied: urllib3<3,>=1.21.1 in /usr/local/lib/python3.11/dist-packages (from requests->transformers) (2.3.0)\n",
            "Requirement already satisfied: certifi>=2017.4.17 in /usr/local/lib/python3.11/dist-packages (from requests->transformers) (2025.1.31)\n"
          ]
        }
      ]
    },
    {
      "cell_type": "markdown",
      "source": [
        "\n",
        "\n",
        "---\n",
        "\n",
        "\n",
        "### Step 2: Load BERT Tokenizer and Model\n"
      ],
      "metadata": {
        "id": "_eyuQgqnJ-gw"
      }
    },
    {
      "cell_type": "code",
      "source": [
        "from transformers import BertTokenizer, TFBertForSequenceClassification\n",
        "\n",
        "model_name = \"google-bert/bert-base-uncased\"\n",
        "\n",
        "tokenizer = BertTokenizer.from_pretrained(model_name)\n",
        "model = TFBertForSequenceClassification.from_pretrained(model_name)"
      ],
      "metadata": {
        "colab": {
          "base_uri": "https://localhost:8080/",
          "height": 371,
          "referenced_widgets": [
            "f0da73b613ca41f6b8eab02c8a492a0b",
            "65e7c76e976b4bba868d3d0baa299158",
            "a7e549d50baa4a818c985410b40beff2",
            "35eba975499346cababe108e905579d3",
            "49476e933df6446cbd3bded6d1847b22",
            "89906f54ce024ad2bc82ee4dc8d496fd",
            "ec7d24f76eec431689d1c5a9532eba3a",
            "02c7bf808b3e412c83812268d72d7e14",
            "3d1ea0b83ca8491ebed1927aef629696",
            "34d33ba014fc47779272f555f2ef094a",
            "617b477d5bbd46999d48fd02580ebd0a",
            "c0b3ad4244e648968bfc6446dce6caa6",
            "cd722ffbac8d4798a9932768f2481e0d",
            "a56587baf55a40179e2970d1d0aa455e",
            "9aebcb8e75e54fb0a430f26e9631af0d",
            "56d3d69d844d478ca74ab32ed3a40784",
            "f34d31a1cc8b4b4dae4d6061c3f6f667",
            "cca8b1ce18b1455cb8344b7dc3d8ea52",
            "619a5f049b8a4984bbad610ad148f26b",
            "d0517c442368434d9fff401344c4cbe0",
            "7b84a0c2344c4a8cbda0ef96d536d69d",
            "a2197b333d6947ad95a7dbd1b0960c65",
            "86a3164d2e1e48fd948f33ba335bf81f",
            "c965772dfc3446bda0fc9e21d040bc5c",
            "b78750df13a74e88a2be93ec37c88ebd",
            "5b9d898dc0fd4288ab0876b60424bdb0",
            "172efa676e654fcbb0653371e017493a",
            "af4a9dea203b4d5eafbea9a68e90ac65",
            "c36d70ecb1ad4b51b93ee5202b12a885",
            "bac91a4252f54670a000a4d8a16f16e2",
            "497ef63a853646138e2ad924156d6265",
            "fa568ea35c3c4e84bed07227d43aa89e",
            "21a4f960e5794ddb8c1d26c75aa46cdc",
            "06a338dc7b46465090812d603c95896a",
            "7f9254a9572d49cfa56a7fad7ca7583e",
            "64be35916cfa4126aeadfe27270b8011",
            "5ac0658be4464ae8acc424bc1b720167",
            "5ca0f3c262784b85b0b944054509a3bd",
            "50bbbb6428cf469fac960d83b5d403f9",
            "30c9cdaeca1446d589b5c44e903b45b5",
            "dd2a46ad14ec420f9522eb1892ab20e5",
            "5d830024c2be4f338eb178a99c376740",
            "8299d5ba7861429fb28bfa263c19dc4d",
            "46a03eabb1114368853e1444a73f54a5",
            "0e18f2f1fa4548268b9be63cc906bf8a",
            "4d5a323207f340df9fec353eb16c37a7",
            "29c72b276fe549b2bdfb58dacb27fa4a",
            "f91aba66e59d428d858ed9da45681c45",
            "0f8260a144b2491c90ddf74cd1412b34",
            "72ebe0b23aae4de9828ecd111b1f520a",
            "ba7f6abbee824908914c6805e73c25e4",
            "309d3e2f21824a7bab5f48f5d8698f4d",
            "24368bfe41af456288a89f91bc10c92e",
            "28b18127e2e74c7d999cc054d4caccda",
            "c2adffe31ecd464e9971411dc9ea4b1c"
          ]
        },
        "id": "Ec_m-fXW1arN",
        "outputId": "dec9be9e-df7f-4c61-b10a-9cb9d993aca1"
      },
      "execution_count": null,
      "outputs": [
        {
          "output_type": "stream",
          "name": "stderr",
          "text": [
            "/usr/local/lib/python3.11/dist-packages/huggingface_hub/utils/_auth.py:94: UserWarning: \n",
            "The secret `HF_TOKEN` does not exist in your Colab secrets.\n",
            "To authenticate with the Hugging Face Hub, create a token in your settings tab (https://huggingface.co/settings/tokens), set it as secret in your Google Colab and restart your session.\n",
            "You will be able to reuse this secret in all of your notebooks.\n",
            "Please note that authentication is recommended but still optional to access public models or datasets.\n",
            "  warnings.warn(\n"
          ]
        },
        {
          "output_type": "display_data",
          "data": {
            "text/plain": [
              "tokenizer_config.json:   0%|          | 0.00/48.0 [00:00<?, ?B/s]"
            ],
            "application/vnd.jupyter.widget-view+json": {
              "version_major": 2,
              "version_minor": 0,
              "model_id": "f0da73b613ca41f6b8eab02c8a492a0b"
            }
          },
          "metadata": {}
        },
        {
          "output_type": "display_data",
          "data": {
            "text/plain": [
              "vocab.txt:   0%|          | 0.00/232k [00:00<?, ?B/s]"
            ],
            "application/vnd.jupyter.widget-view+json": {
              "version_major": 2,
              "version_minor": 0,
              "model_id": "c0b3ad4244e648968bfc6446dce6caa6"
            }
          },
          "metadata": {}
        },
        {
          "output_type": "display_data",
          "data": {
            "text/plain": [
              "tokenizer.json:   0%|          | 0.00/466k [00:00<?, ?B/s]"
            ],
            "application/vnd.jupyter.widget-view+json": {
              "version_major": 2,
              "version_minor": 0,
              "model_id": "86a3164d2e1e48fd948f33ba335bf81f"
            }
          },
          "metadata": {}
        },
        {
          "output_type": "display_data",
          "data": {
            "text/plain": [
              "config.json:   0%|          | 0.00/570 [00:00<?, ?B/s]"
            ],
            "application/vnd.jupyter.widget-view+json": {
              "version_major": 2,
              "version_minor": 0,
              "model_id": "06a338dc7b46465090812d603c95896a"
            }
          },
          "metadata": {}
        },
        {
          "output_type": "display_data",
          "data": {
            "text/plain": [
              "model.safetensors:   0%|          | 0.00/440M [00:00<?, ?B/s]"
            ],
            "application/vnd.jupyter.widget-view+json": {
              "version_major": 2,
              "version_minor": 0,
              "model_id": "0e18f2f1fa4548268b9be63cc906bf8a"
            }
          },
          "metadata": {}
        },
        {
          "output_type": "stream",
          "name": "stderr",
          "text": [
            "All PyTorch model weights were used when initializing TFBertForSequenceClassification.\n",
            "\n",
            "Some weights or buffers of the TF 2.0 model TFBertForSequenceClassification were not initialized from the PyTorch model and are newly initialized: ['classifier.weight', 'classifier.bias']\n",
            "You should probably TRAIN this model on a down-stream task to be able to use it for predictions and inference.\n"
          ]
        }
      ]
    },
    {
      "cell_type": "markdown",
      "source": [
        "We’re using the `google-bert/bert-base-uncased` model, designed for English tasks. Here’s what we’re loading:\n",
        "\n",
        "* `BertTokenizer`: Converts input text into token IDs understandable by the BERT model.\n",
        "* `TFBertForSequenceClassification`: A BERT model tailored for classification tasks (e.g., sentiment analysis).\n",
        "\n",
        "Key Parameters:\n",
        "* `from_pretrained`: Downloads the pre-trained weights of the specified model."
      ],
      "metadata": {
        "id": "EpxQ3lp8K5zw"
      }
    },
    {
      "cell_type": "markdown",
      "source": [
        "\n",
        "\n",
        "---\n",
        "\n",
        "### Step 3: Mount Google Drive\n",
        "We’re working with a dataset stored in Google Drive. Use this code to mount the drive and access the file system."
      ],
      "metadata": {
        "id": "gjc2dpS0KNUK"
      }
    },
    {
      "cell_type": "code",
      "source": [
        "from google.colab import drive\n",
        "drive.mount('/content/drive', force_remount=True)"
      ],
      "metadata": {
        "colab": {
          "base_uri": "https://localhost:8080/"
        },
        "id": "P3LHL_bf1wvp",
        "outputId": "729cfb1d-ee95-4289-f40a-fa70d70ec7c7"
      },
      "execution_count": 4,
      "outputs": [
        {
          "output_type": "stream",
          "name": "stdout",
          "text": [
            "Mounted at /content/drive\n"
          ]
        }
      ]
    },
    {
      "cell_type": "markdown",
      "source": [
        "\n",
        "\n",
        "---\n",
        "\n",
        "### Step 4: Load the Dataset\n",
        "Let’s load the **Arabic 100k Reviews dataset**, a TSV file with two columns:\n",
        "\n",
        "* `label`: Sentiment category (*Positive, Negative, or Mixed*).\n",
        "* `text`: Review text in Arabic."
      ],
      "metadata": {
        "id": "agdTGtrwKSLz"
      }
    },
    {
      "cell_type": "code",
      "source": [
        "file_path = \"/content/drive/MyDrive/Colab Notebooks/05-Fine-Tuning-BERT/ar_reviews_100k.tsv\""
      ],
      "metadata": {
        "id": "liOnDLpo2bX1"
      },
      "execution_count": null,
      "outputs": []
    },
    {
      "cell_type": "code",
      "source": [
        "import pandas as pd\n",
        "\n",
        "df = pd.read_csv(file_path, sep='\\t')\n",
        "df"
      ],
      "metadata": {
        "id": "jFdbn9B52sdN",
        "outputId": "284a77dd-2814-4b7e-e57a-501ee18e589e",
        "colab": {
          "base_uri": "https://localhost:8080/",
          "height": 193
        }
      },
      "execution_count": 5,
      "outputs": [
        {
          "output_type": "error",
          "ename": "NameError",
          "evalue": "name 'file_path' is not defined",
          "traceback": [
            "\u001b[0;31m---------------------------------------------------------------------------\u001b[0m",
            "\u001b[0;31mNameError\u001b[0m                                 Traceback (most recent call last)",
            "\u001b[0;32m<ipython-input-5-e30d7ff38079>\u001b[0m in \u001b[0;36m<cell line: 0>\u001b[0;34m()\u001b[0m\n\u001b[1;32m      1\u001b[0m \u001b[0;32mimport\u001b[0m \u001b[0mpandas\u001b[0m \u001b[0;32mas\u001b[0m \u001b[0mpd\u001b[0m\u001b[0;34m\u001b[0m\u001b[0;34m\u001b[0m\u001b[0m\n\u001b[1;32m      2\u001b[0m \u001b[0;34m\u001b[0m\u001b[0m\n\u001b[0;32m----> 3\u001b[0;31m \u001b[0mdf\u001b[0m \u001b[0;34m=\u001b[0m \u001b[0mpd\u001b[0m\u001b[0;34m.\u001b[0m\u001b[0mread_csv\u001b[0m\u001b[0;34m(\u001b[0m\u001b[0mfile_path\u001b[0m\u001b[0;34m,\u001b[0m \u001b[0msep\u001b[0m\u001b[0;34m=\u001b[0m\u001b[0;34m'\\t'\u001b[0m\u001b[0;34m)\u001b[0m\u001b[0;34m\u001b[0m\u001b[0;34m\u001b[0m\u001b[0m\n\u001b[0m\u001b[1;32m      4\u001b[0m \u001b[0mdf\u001b[0m\u001b[0;34m\u001b[0m\u001b[0;34m\u001b[0m\u001b[0m\n",
            "\u001b[0;31mNameError\u001b[0m: name 'file_path' is not defined"
          ]
        }
      ]
    },
    {
      "cell_type": "code",
      "source": [],
      "metadata": {
        "id": "x_9TAx94VM4U"
      },
      "execution_count": null,
      "outputs": []
    },
    {
      "cell_type": "code",
      "source": [],
      "metadata": {
        "id": "mU84D3UJVNNY"
      },
      "execution_count": null,
      "outputs": []
    },
    {
      "cell_type": "code",
      "source": [
        "# Let's copy these random five rows (To Avoid Modifying the Original DataSet)\n",
        "five_rows_copy = random_5_rows.copy()\n",
        "\n",
        "# Define custom mappings similar to the Dataset\n",
        "custom_mapping = {\n",
        "    0: \"Negative\",\n",
        "    1: \"Mixed\",\n",
        "    2: \"Positive\"\n",
        "}"
      ],
      "metadata": {
        "id": "gWaiJwS83T8W"
      },
      "execution_count": null,
      "outputs": []
    },
    {
      "cell_type": "markdown",
      "source": [
        "\n",
        "\n",
        "---\n",
        "\n",
        "\n",
        "### Step 7: Test the BERT Model on the Dataset\n",
        "We’re feeding each row to the BERT model to predict sentiments. Here’s what happens step-by-step:\n",
        "\n",
        "Key Steps:\n",
        "1. Tokenization: Converts the text into tokens using the `tokenizer`.\n",
        "2. Prediction: Passes tokenized inputs through the model to get raw outputs (`logits`).\n",
        "3. Classification: Maps logits to class indices using `argmax` from **pandas Library**.\n",
        "4. Custom Mapping: Converts class indices into human-readable labels."
      ],
      "metadata": {
        "id": "OpqSmDmFOLC1"
      }
    },
    {
      "cell_type": "code",
      "source": [
        "# Let's test the BERT model on the Dataset\n",
        "import numpy as np\n",
        "\n",
        "# Create an empty list\n",
        "predicted_sentiments_list = []\n",
        "\n",
        "for row in five_rows_copy['label']:\n",
        "  inputs = tokenizer(row)\n",
        "\n",
        "  input_ids = inputs['input_ids']\n",
        "\n",
        "  predictions = model.predict([input_ids])\n",
        "\n",
        "  logits = predictions.logits\n",
        "\n",
        "  predicted_class = np.argmax(logits)\n",
        "\n",
        "  predicted_sentiment = custom_mapping[predicted_class]\n",
        "\n",
        "  # Append to sentiments list\n",
        "  predicted_sentiments_list.append(predicted_sentiment)\n",
        "\n",
        "print(predicted_sentiments_list)"
      ],
      "metadata": {
        "id": "Svyx8aBc3nJO"
      },
      "execution_count": null,
      "outputs": []
    },
    {
      "cell_type": "markdown",
      "source": [
        "Functions and Parameters:\n",
        "* `tokenizer()`: Tokenizes input text.\n",
        "* `logits`: Raw scores from the model for each sentiment class.\n",
        "* `np.argmax(logits)`: Finds the class with the highest score."
      ],
      "metadata": {
        "id": "M1Xi3v8nMU0r"
      }
    },
    {
      "cell_type": "markdown",
      "source": [
        "\n",
        "\n",
        "---\n",
        "\n",
        "\n",
        "### Step 8: Compare Predicted Sentiments with Original Labels\n",
        "Finally, let’s add a new column to the copied DataFrame (**five_rows_copy**) to compare the original labels with the BERT model’s predictions.\n",
        "\n",
        "* `Bert_Sentiments`: Column containing predicted sentiments."
      ],
      "metadata": {
        "id": "T5rVVEJnMjLT"
      }
    },
    {
      "cell_type": "code",
      "source": [
        "# Comparing Predicted Sentiments with Original Labels\n",
        "\n",
        "five_rows_copy['Bert_Sentiments'] = predicted_sentiments_list\n",
        "five_rows_copy"
      ],
      "metadata": {
        "id": "UOCPGkvv57kt"
      },
      "execution_count": null,
      "outputs": []
    },
    {
      "cell_type": "markdown",
      "source": [
        "\n",
        "\n",
        "---\n",
        "\n",
        "\n",
        "## **Limitations: BERT Model and Arabic Data ?!**🤔\n",
        "The pre-trained BERT model we’re using (`google-bert/bert-base-uncased`) was trained **primarily on English text**, which means it might not perform optimally on Arabic data. 🧐 While BERT’s architecture is powerful and can generalize well, it wasn’t specifically fine-tuned for Arabic language tasks like sentiment analysis. As a result, the model's predictions on Arabic reviews **might not be as reliable or accurate.**\n",
        "\n",
        "\n",
        "**Why Fine-Tune the Model?**\n",
        "\n",
        "By fine-tuning the model using the Arabic 100k Reviews dataset, we can teach the model to better understand the nuances of sentiment in Arabic text. Fine-tuning allows the model to specialize in recognizing the sentiment of Arabic reviews, improving its performance and reliability for this specific task. 🚀"
      ],
      "metadata": {
        "id": "sLiqFmFqRRFq"
      }
    },
    {
      "cell_type": "markdown",
      "source": [
        "\n",
        "\n",
        "---\n",
        "\n",
        "\n",
        "## **2- Testing Results After Fine-Tuning 🛠️**\n",
        "Now that we’ve fine-tuned our BERT model on the Arabic 100k Reviews dataset, it’s time to test it on new data! This will help us:\n",
        "\n",
        "* Evaluate how well the fine-tuned model performs on Arabic sentiment analysis.\n",
        "* Compare its performance against the baseline (pre-trained model) and see the improvement.\n",
        "\n",
        "We’ll run the fine-tuned model on a set of reviews and analyze the results to see how much better it handles the Arabic sentiment classification task! 💡"
      ],
      "metadata": {
        "id": "asub7mRtSl0R"
      }
    },
    {
      "cell_type": "markdown",
      "source": [
        "### Step 1: Preparing Dataset for Training\n",
        "\n",
        "\n"
      ],
      "metadata": {
        "id": "O7XgnbLZfaTq"
      }
    },
    {
      "cell_type": "markdown",
      "source": [
        "#### **A- Sampling Dataset (if necessary)**"
      ],
      "metadata": {
        "id": "zDumyOdGqJiE"
      }
    },
    {
      "cell_type": "code",
      "source": [
        "df.shape"
      ],
      "metadata": {
        "id": "NR3dwhk7fFzU"
      },
      "execution_count": null,
      "outputs": []
    },
    {
      "cell_type": "markdown",
      "source": [
        "\n",
        "* Since our dataset consists of **99,999 rows**, training on the entire dataset could **take a long time** ⏳.\n",
        "\n",
        "* Additionally, there's always a risk of facing errors during lengthy training, which can be frustrating.\n",
        "* To avoid this, **we’ll sample 30,000 rows** to speed up the process and lessen potential issues."
      ],
      "metadata": {
        "id": "8-CaSvw6g9dp"
      }
    },
    {
      "cell_type": "code",
      "source": [
        "df = df.sample(n=30000, random_state=42)\n",
        "\n",
        "print(f\"Total Number of Rows and Columns After Sampling: {df.shape}\")"
      ],
      "metadata": {
        "id": "rGFUYoclfXzv"
      },
      "execution_count": null,
      "outputs": []
    },
    {
      "cell_type": "markdown",
      "source": [
        "* `random_state=42`: It ensures that the sampling process is reproducible, meaning **we'll get the same 30,000 rows every time we run the code**. This is important to ensure consistent results during training and evaluation."
      ],
      "metadata": {
        "id": "fp--Ympohs2d"
      }
    },
    {
      "cell_type": "markdown",
      "source": [
        "\n",
        "\n",
        "---\n",
        "\n",
        "\n",
        "#### **B- Visualizing Our Dataset** (Optional)\n",
        "\n",
        "Before we dive into fine-tuning our model, it's essential to understand the distribution of review lengths (**the text column**) in our dataset. Since transformer models like BERT have a limit on the number of tokens (**512 Tokens**) they can process, we need to make sure that our data fits within this limit.\n",
        "\n",
        "--\n",
        "\n",
        "**Why Visualize Review Lengths?**\n",
        "- **Understand the dataset better**: Visualizing the text lengths helps us see whether most reviews (texts) are short or long and decide how to handle them.\n",
        "\n",
        "- **Decide the right `maxlen` for the model**: Since BERT has a token limit (512 tokens), if your input exceeds 512 tokens:\n",
        "It will either throw an error (if truncation isn’t set) or truncate to the first 512 tokens. By Visualising the dataset, we can chose a resonable `maxlen` for most cases."
      ],
      "metadata": {
        "id": "6wxP1ylWs2Ad"
      }
    },
    {
      "cell_type": "code",
      "source": [
        "df.text.apply(lambda x: len(x.split())).plot(kind='hist')"
      ],
      "metadata": {
        "id": "PAaXC-3sf1v6"
      },
      "execution_count": null,
      "outputs": []
    },
    {
      "cell_type": "markdown",
      "source": [
        "---\n",
        "**What Does This Output Mean?! 🤔**\n",
        "\n",
        "Looking at the histogram, you can observe that:\n",
        "\n",
        "1.    **Most reviews are short:** A majority of reviews in the dataset fall within a small word count range (likely less than 100 words).\n",
        "\n",
        "\n",
        "2.  **Few reviews are very long (outliers):** There’s a tail at the higher end of the histogram, indicating that a small number of reviews have a large number of words.\n",
        "\n",
        "\n",
        "---\n",
        "**Next Steps ?! 🤨**\n",
        "\n",
        "Depending on your analysis, you may want to:\n",
        "\n",
        "1. **Remove reviews with too few words** that do not contribute much context.\n",
        "\n",
        "2. **Truncate or split long reviews** to ensure they fit within the model's tokenization limits (e.g., BERT has a token limit of 512 tokens per input).\n",
        "\n",
        "3. **setting the `maxlen` parameter**: It specifies the maximum number of words (or tokens) that BERT will process for each review. This is crucial because BERT has a fixed limit on the number of tokens it can handle.\n"
      ],
      "metadata": {
        "id": "_g7xZMwfx1ej"
      }
    },
    {
      "cell_type": "markdown",
      "source": [
        "---\n",
        "**How to Decide the Right `maxlen` ?!** 🔍\n",
        "\n",
        "* **Use shorter `maxlen`:** If your text is generally short (e.g., tweets or short reviews), using a smaller maxlen (like 100 or 150) could work.\n",
        "\n",
        "* **Use longer `maxlen`:** If your text is generally long (e.g., long articles or detailed reviews), you might need to go up to 512 **(the max token limit of BERT)**.\n",
        "\n",
        "* **Test and Experiment:** If you're unsure, you can experiment with different values of `maxlen`. Start with something reasonable like **200** and test the performance of the model. You can adjust it based on results.\n",
        "\n",
        "* **Memory & Speed:** Shorter `maxlen` (e.g., **200**) leads to faster processing and lower memory usage. Longer `maxlen` (e.g., **512**) requires more computational resources.\n",
        "\n",
        "* **Dataset Analysis:** Visualize the token distribution (as we did earlier) to pick a reasonable `maxlen` that covers **most of your data** without truncating too much.\n",
        "\n"
      ],
      "metadata": {
        "id": "8bL83p9R1RH4"
      }
    },
    {
      "cell_type": "markdown",
      "source": [
        "---\n",
        "**What If We Choose a Different `maxlen` ?!**🤔\n",
        "\n",
        "* **Too Short (e.g., `maxlen=50`):** If we use a very short limit, like 50, we risk losing important context from longer reviews. This could negatively impact the model's accuracy, especially for reviews that need more words to express sentiment.\n",
        "\n",
        "* **Too Long (e.g., `maxlen=512`):** If we set maxlen too high (such as 512), the model might spend more time processing longer sequences that aren't needed for most of the reviews. This can slow down training and inference without improving performance.\n"
      ],
      "metadata": {
        "id": "8Hs_-3BH3Q2Y"
      }
    },
    {
      "cell_type": "markdown",
      "source": [
        "---\n",
        "**🔴 Final Decesion on `maxlen` ?!**\n",
        "\n",
        "\n",
        "- Setting `maxlen=200` is a reasonable choice.\n",
        "\n",
        "\n",
        "\n",
        "**Why 200 Tokens?**\n",
        "\n",
        "\n",
        "If we set `maxlen=200`, we’re limiting the input to **200 tokens**, even though BERT can handle up to **512 tokens**. This is useful when you:\n",
        "\n",
        "1. **Want to reduce memory usage or training time.**\n",
        "\n",
        "2. **Know that longer inputs aren't critical for your task.**\n",
        "\n"
      ],
      "metadata": {
        "id": "PIR-V2HdHnOG"
      }
    },
    {
      "cell_type": "markdown",
      "source": [
        "\n",
        "\n",
        "---\n",
        "\n",
        "\n",
        "#### **C- Converting the dataset into a format that BERT (or other ML models) can understand.**\n",
        "\n",
        "* **Text Data**: BERT and ML models don’t directly understand raw text. We need to tokenize it into numerical representations (tokens) that the model can process.\n",
        "\n",
        "* **Labels**: Similarly, models require numerical values for the target labels (e.g., sentiment categories like \"Mixed,\" \"Positive,\" and \"Negative\") instead of text.\n",
        "\n",
        "------------------------\n",
        "**How Can We Do that ❓❗**\n",
        "1. **Numerically Encode the Labels:** Use a library like **scikit-learn's `LabelEncoder`** to map text-based labels (e.g., \"Mixed\") to numerical values (e.g., 0, 1, ...).\n",
        "\n",
        "\n",
        "2. **Split the Data:** Divide the dataset into training and validation sets to evaluate the model during training.\n",
        "\n",
        "3. **Tokenize the Text:** Use BERT’s tokenizer to break down sentences tokens and convert them into numerical IDs.\n",
        "\n",
        "\n",
        "\n"
      ],
      "metadata": {
        "id": "KUGs13fLUbgA"
      }
    },
    {
      "cell_type": "code",
      "source": [
        "import numpy as np\n",
        "\n",
        "for label in np.unique(df['label']):\n",
        "  print(label)"
      ],
      "metadata": {
        "id": "6lcxfpRKVFEd"
      },
      "execution_count": null,
      "outputs": []
    },
    {
      "cell_type": "markdown",
      "source": [
        "* `np.unique(df['label'])`: extracts all unique values in the `label` column of the Dataframe.\n"
      ],
      "metadata": {
        "id": "5hqPj9dnfJB2"
      }
    },
    {
      "cell_type": "code",
      "source": [
        "from sklearn.preprocessing import LabelEncoder\n",
        "\n",
        "LE = LabelEncoder()\n",
        "\n",
        "df['label'] = LE.fit_transform(df['label'])\n",
        "df.head()"
      ],
      "metadata": {
        "id": "joeJILbUWvD2"
      },
      "execution_count": null,
      "outputs": []
    },
    {
      "cell_type": "markdown",
      "source": [
        "* `LabelEncoder()`: This scikit-learn class converts categorical labels into numeric ones.\n",
        "\n",
        "* `LE.fit_transform(df['label'])`: It maps the text labels to numeric values. For example:\n",
        "  * \"Mixed\" → 0\n",
        "  * \"Negative\" → 1\n",
        "  * \"Positive\" → 2\n",
        "\n",
        "* The transformed labels are then stored back in the **`df['label']` column**."
      ],
      "metadata": {
        "id": "Rwc2rRHnYsLb"
      }
    },
    {
      "cell_type": "code",
      "source": [
        "# Check after converting labels into numerics\n",
        "for label in np.unique(df['label']):\n",
        "  print(label)"
      ],
      "metadata": {
        "id": "WXavclEBYpZY"
      },
      "execution_count": null,
      "outputs": []
    },
    {
      "cell_type": "markdown",
      "source": [
        "### **Step 2: Splitting the Data for Training and Validation:**\n",
        "To train and evaluate our model, we need to split the dataset into:\n",
        "\n",
        "* **Training Set**: Used to teach the model.\n",
        "* **Validation Set**: Used to evaluate the model's performance.\n",
        "\n"
      ],
      "metadata": {
        "id": "6qD83sL9eCoT"
      }
    },
    {
      "cell_type": "code",
      "source": [
        "from sklearn.model_selection import train_test_split\n",
        "\n",
        "train, val = train_test_split(df, test_size=0.2, random_state=42)"
      ],
      "metadata": {
        "id": "tiYUaysvZ35Z"
      },
      "execution_count": null,
      "outputs": []
    },
    {
      "cell_type": "markdown",
      "source": [
        "* `train_test_split()`: Splits the data set into training set and validation set.\n",
        "\n",
        "* `test_size=0.2`: Specifies that 20% of the dataset will be used as the validation set.\n",
        "\n"
      ],
      "metadata": {
        "id": "08Y0CcVUgxpR"
      }
    },
    {
      "cell_type": "code",
      "source": [
        "# Check the new shapes\n",
        "print(train.shape)\n",
        "print(val.shape)"
      ],
      "metadata": {
        "id": "Wy1t98fDb1qQ"
      },
      "execution_count": null,
      "outputs": []
    },
    {
      "cell_type": "code",
      "source": [
        "# Let's check our sets\n",
        "train.head()"
      ],
      "metadata": {
        "id": "76PyNK_BcyHg"
      },
      "execution_count": null,
      "outputs": []
    },
    {
      "cell_type": "markdown",
      "source": [
        "#### **Resetting the Indexes 🔄 :**\n",
        "When you split the data, the original row indices from the dataframe are retained. Resetting the index ensures that the new subsets start with sequential indices.\n",
        "\n"
      ],
      "metadata": {
        "id": "tWgXZS1YeoBt"
      }
    },
    {
      "cell_type": "code",
      "source": [
        "# Let's reset the index values\n",
        "train.reset_index(drop=True, inplace=True)\n",
        "val.reset_index(drop=True, inplace=True)\n",
        "\n",
        "train.head()"
      ],
      "metadata": {
        "id": "6ea3gnNmc-iX"
      },
      "execution_count": null,
      "outputs": []
    },
    {
      "cell_type": "markdown",
      "source": [
        "* `drop=True`: Drops the old index column instead of adding it back as a new column.\n",
        "\n",
        "* `inplace=True`: Updates the dataframe directly instead of creating a copy.\n"
      ],
      "metadata": {
        "id": "_L0RcbcKhdE7"
      }
    },
    {
      "cell_type": "code",
      "source": [
        "train.head()"
      ],
      "metadata": {
        "id": "SWZC3BWPdio_"
      },
      "execution_count": null,
      "outputs": []
    },
    {
      "cell_type": "code",
      "source": [
        "val.head()"
      ],
      "metadata": {
        "id": "ozuBLxfylULy"
      },
      "execution_count": null,
      "outputs": []
    },
    {
      "cell_type": "markdown",
      "source": [
        "___\n",
        "### Step 3: Converting Text and Labels into Arrays\n",
        "\n",
        "When feeding the data into the ML model we need to convert them into **arrays**.\n",
        "This conversion is necessary because ML typically work with arrays rather than DataFrame Objects."
      ],
      "metadata": {
        "id": "jgMf2v7hn8S1"
      }
    },
    {
      "cell_type": "code",
      "source": [
        "# Convert text and label columns of the traing data into Numpy arrays\n",
        "x_train = train['text'].to_numpy()\n",
        "y_train = train['label'].to_numpy()\n",
        "\n",
        "# Apply for the validation data also\n",
        "x_test = val['text'].to_numpy()\n",
        "y_test = val['label'].to_numpy()"
      ],
      "metadata": {
        "id": "Wtn405gflZ0y"
      },
      "execution_count": null,
      "outputs": []
    },
    {
      "cell_type": "markdown",
      "source": [
        "* `.to_numpy()`: Converts the text and label data (stored in pandas DataFrames) into NumPy arrays. This conversion is necessary for feeding the data into ML models, which **typically work with arrays rather than DataFrame objects**.\n"
      ],
      "metadata": {
        "id": "CmjW1InvoncQ"
      }
    },
    {
      "cell_type": "code",
      "source": [
        "print(f\"Text column of the Train Data:\\n {x_train}\")\n",
        "print(f\"\\nLabel column of the Train Data:\\n {y_train}\")\n",
        "print(type(x_train))\n",
        "print(type(y_train))"
      ],
      "metadata": {
        "id": "RpJlVz-mmfv2"
      },
      "execution_count": null,
      "outputs": []
    },
    {
      "cell_type": "code",
      "source": [
        "print(f\"Text column of the Validation (Test) Data:\\n {x_test}\")\n",
        "print(f\"\\nLabel column of the Validation (Test) Data:\\n {y_test}\")"
      ],
      "metadata": {
        "id": "sJyyyzfFmiFk"
      },
      "execution_count": null,
      "outputs": []
    },
    {
      "cell_type": "markdown",
      "source": [
        "___\n",
        "### Step 4: Training the model\n",
        "\n",
        "Now, we're ready to feed the data into the model."
      ],
      "metadata": {
        "id": "HnAATC7EpRHS"
      }
    },
    {
      "cell_type": "markdown",
      "source": [
        "#### **A - Intall Required Libraries**\n",
        "We're goint to use the **`ktrain` library** for training our model.\n",
        "\n",
        "* `ktrain`: This is a high-level wrapper for building and deploying machine learning models. It simplifies working with models like **BERT** for tasks such as classification, text processing, and fine-tuning. **`ktrain` is built on top of TensorFlow** (and other libraries), so you need it for easier interaction with BERT and other models.\n",
        "\n",
        "\n",
        "* `tensorflow`: This is a deep learning framework that provides the foundation for training and running models. **`ktrain` relies on TensorFlow** to actually execute model training, prediction, and evaluation. Without TensorFlow installed, ktrain won't be able to perform its tasks because it's built on top of it."
      ],
      "metadata": {
        "id": "bjPo-S5TpxXA"
      }
    },
    {
      "cell_type": "code",
      "source": [
        "!pip install ktrain==0.32.3"
      ],
      "metadata": {
        "id": "Zv_Hff7-moMK"
      },
      "execution_count": null,
      "outputs": []
    },
    {
      "cell_type": "code",
      "source": [
        "!pip install tensorflow==2.15.0"
      ],
      "metadata": {
        "id": "5GLO-pxexKrH"
      },
      "execution_count": null,
      "outputs": []
    },
    {
      "cell_type": "markdown",
      "source": [
        "#### **B - Creating a Transformer Object**\n",
        "\n",
        "The `ktrain.text.Transformer` class allows us to define and preprocess the data for a specific model.\n"
      ],
      "metadata": {
        "id": "7mTn0JtiE85f"
      }
    },
    {
      "cell_type": "code",
      "source": [
        "from ktrain import text\n",
        "\n",
        "# Specify the model name, categories and maxlen for the text transformer object.\n",
        "model_name = 'bert-base-uncased'\n",
        "class_names = ['Mixed', 'Negative', 'Positive']\n",
        "\n",
        "text_transformer = text.Transformer(model_name=model_name, class_names=class_names, maxlen=200)"
      ],
      "metadata": {
        "id": "Ob-_6FdpqB2o"
      },
      "execution_count": null,
      "outputs": []
    },
    {
      "cell_type": "markdown",
      "source": [
        "* `text.Transformer`: **Transformer** (`model_name`, `maxlen: int = 128`, `class_names: Any = []`, `classes: Any = []`, `batch_size: Any` | None = None, use_with_learner: bool = True)\n",
        "\n",
        "* `model_name='bert-base-uncased'`: Refers to the pre-trained BERT model that will be fine-tuned.\n",
        "\n",
        "* `class_names=['Mixed', 'Negative', 'Positive']`: Defines the sentiment classes for our task.\n",
        "\n",
        "* `maxlen=200`: Sets the maximum sequence length for the text data. Reviews longer than this will be truncated, and shorter reviews will be padded.\n"
      ],
      "metadata": {
        "id": "3aCDorJaFEq9"
      }
    },
    {
      "cell_type": "markdown",
      "source": [
        "#### **C - Building and Preporecessing the Data**\n",
        "We need to preprocess the data before feeding it into the BERT model.\n",
        "\n",
        "\n"
      ],
      "metadata": {
        "id": "Depp3YK0Gmet"
      }
    },
    {
      "cell_type": "code",
      "source": [
        "import ktrain\n",
        "\n",
        "model = text_transformer.get_classifier()\n",
        "train_data = text_transformer.preprocess_train(x_train, y_train)\n",
        "val_data = text_transformer.preprocess_test(x_test, y_test)\n",
        "\n",
        "learner = ktrain.get_learner(model=model, train_data=train_data, val_data=val_data, batch_size=16)"
      ],
      "metadata": {
        "id": "wwjLPoYFuwbX"
      },
      "execution_count": null,
      "outputs": []
    },
    {
      "cell_type": "markdown",
      "source": [
        "* `ktrain.get_learner()`: Returns a Learner instance that can be used to tune and train Keras models.\n",
        "\n",
        "* **`get_learner`**: (`model: Any`, `train_data: Any` | None = None, `val_data: Any` | None = None, `batch_size: int` = U.DEFAULT_BS, eval_batch_size: int = U.DEFAULT_BS, workers: int = 1, use_multiprocessing: bool = False) -> Any\n",
        "\n",
        "\n",
        "\n",
        "* `get_classifier()`: Returns the BERT model ready for fine-tuning.\n",
        "\n",
        "* `text_transformer.preprocess_train(x_train, y_train)`: This method processes the training data (x_train and y_train), tokenizes the text (converts it into tokens that the model can understand), and encodes the labels.\n",
        "\n",
        "* `text_transformer.preprocess_test(x_test, y_test)`: Similarly, this method processes the validation data (x_test and y_test), preparing it in the same format as the training data for evaluation."
      ],
      "metadata": {
        "id": "jaw_rndUG98n"
      }
    },
    {
      "cell_type": "markdown",
      "source": [
        "#### **D - Training The Model**\n",
        "\n",
        "Let’s fine-tune BERT using **one-cycle learning** to optimize the learning rate and achieve faster convergence.\n"
      ],
      "metadata": {
        "id": "uqpwmaq_HZlJ"
      }
    },
    {
      "cell_type": "code",
      "source": [
        "import time\n",
        "\n",
        "start = time.time()\n",
        "learner.fit_onecycle(lr=2e-5, epochs=3)\n",
        "end = time.time()\n",
        "\n",
        "print(f\"Total Training Time: {round(end - start)} seconds\")"
      ],
      "metadata": {
        "id": "kjD6XXV_yPzx"
      },
      "execution_count": null,
      "outputs": []
    },
    {
      "cell_type": "markdown",
      "source": [
        "* `fit_onecycle(lr=2e-5, epochs=3)`: Trains the model for 3 epochs using a learning rate of 2e-5 (0.00002).\n",
        "\n",
        "* `2e-5`: The learning rate used for training. This value is small, as fine-tuning pre-trained models generally requires smaller learning rates to avoid damaging the model's pre-trained knowledge.\n",
        "\n",
        "* `epochs=3`: The number of epochs, i.e., how many times the entire training dataset will be processed by the model.\n",
        "\n",
        "\n"
      ],
      "metadata": {
        "id": "PjtkQ85QJY_H"
      }
    },
    {
      "cell_type": "markdown",
      "source": [
        "---\n",
        "### Step 5: Validating the Model"
      ],
      "metadata": {
        "id": "U7Ixr_ktOL3m"
      }
    },
    {
      "cell_type": "code",
      "source": [
        "learner.validate(class_names=class_names)"
      ],
      "metadata": {
        "id": "4xABy_lCzpTw"
      },
      "execution_count": null,
      "outputs": []
    },
    {
      "cell_type": "markdown",
      "source": [
        "* `learner.validate(class_names=class_names)`: evaluates the model’s performance on the validation dataset and prints out metrics such as accuracy, precision, recall, and F1-score for each of the sentiment categories *(Mixed, Negative, Positive)*.\n",
        "\n"
      ],
      "metadata": {
        "id": "nMhu97cfOTa7"
      }
    },
    {
      "cell_type": "markdown",
      "source": [
        "---\n",
        "### Step 6: Saving the Fine-Tuned Model\n"
      ],
      "metadata": {
        "id": "Kllzd1cVOh0a"
      }
    },
    {
      "cell_type": "code",
      "source": [
        "predictor = ktrain.get_predictor(model=learner.model, preproc=text_transformer)\n",
        "\n",
        "# Saving the fine-tuned model\n",
        "predictor.save(\"/content/drive/MyDrive/Colab Notebooks/05-Fine-Tuning-BERT/Finetuned_Arabic_Sentiment_BERT\")"
      ],
      "metadata": {
        "id": "5np6XwLpM4nw"
      },
      "execution_count": null,
      "outputs": []
    },
    {
      "cell_type": "markdown",
      "source": [
        "* `ktrain.get_predictor(model=learner.model, preproc=text_transformer)`: Creates a predictor object using the trained model (`learner.model`) and the pre-processing pipeline (`preproc=text_transformer`). This allows you to easily use the model for predictions.\n",
        "\n",
        "* `.save()`: Saves the predictor object, including the model and pre-processing steps, to the specified directory. This makes it easy to reload the model later.\n",
        "\n",
        "\n"
      ],
      "metadata": {
        "id": "JJtxVfW0Oqnd"
      }
    },
    {
      "cell_type": "markdown",
      "source": [
        "---\n",
        "### Step 7: Loading the Saved Model.\n"
      ],
      "metadata": {
        "id": "aoycF7g1Ifka"
      }
    },
    {
      "cell_type": "code",
      "source": [
        "from ktrain import load_predictor\n",
        "\n",
        "# Load the saved predictor\n",
        "predictor = load_predictor('/content/drive/MyDrive/Colab Notebooks/05-Fine-Tuning-BERT/Finetuned_Arabic_Sentiment_BERT')"
      ],
      "metadata": {
        "id": "QHCCrdHzOFyf"
      },
      "execution_count": null,
      "outputs": []
    },
    {
      "cell_type": "markdown",
      "source": [
        "### Step 8: Testing the Model with examples"
      ],
      "metadata": {
        "id": "oco88s3fLWeJ"
      }
    },
    {
      "cell_type": "code",
      "source": [
        "example = [\"كله رائع بجد ربنا يكرمك\", \"اتقوا الله فينا بكفي رفع اسعار الرواتب بالحضيض\"]\n",
        "\n",
        "predictions = predictor.predict(example)\n",
        "predictions"
      ],
      "metadata": {
        "id": "CTMKuBAjLIZM"
      },
      "execution_count": null,
      "outputs": []
    },
    {
      "cell_type": "markdown",
      "source": [
        "**Key Takeaway:**\n",
        "* These examples show that the model effectively handles the complexities of sentiment analysis in Arabic, distinguishing positive remarks from more nuanced or mixed emotions. This demonstrates the power of fine-tuning BERT for specific tasks and datasets. 🎉"
      ],
      "metadata": {
        "id": "z5VXgtq0MATP"
      }
    },
    {
      "cell_type": "markdown",
      "source": [
        "---\n",
        "### Step 9: Testing the Model on out Dataset\n",
        "\n",
        "Now, let's test the fine-tuned model on our dataset to evaluate its preformance."
      ],
      "metadata": {
        "id": "vRPwmfFKMVeo"
      }
    },
    {
      "cell_type": "code",
      "source": [
        "random_5_rows"
      ],
      "metadata": {
        "id": "9ufDIW8QLjFp"
      },
      "execution_count": null,
      "outputs": []
    },
    {
      "cell_type": "markdown",
      "source": [
        "Let's copy these random five rows (To Avoid Modifying the Original DataSet)"
      ],
      "metadata": {
        "id": "m3_zQ0UwNfwb"
      }
    },
    {
      "cell_type": "code",
      "source": [
        "random_5_rows_copy = random_5_rows.copy()"
      ],
      "metadata": {
        "id": "q2_UCWjONHlM"
      },
      "execution_count": null,
      "outputs": []
    },
    {
      "cell_type": "code",
      "source": [
        "# Create an empty list for the predicted sentiments\n",
        "predicted_sentiments = []\n",
        "\n",
        "for text in random_5_rows_copy['text']:\n",
        "  predictions = predictor.predict(text)\n",
        "\n",
        "  predicted_sentiments.append(predictions)\n",
        "\n",
        "print(predicted_sentiments)"
      ],
      "metadata": {
        "id": "8EsYg11aNi2-"
      },
      "execution_count": null,
      "outputs": []
    },
    {
      "cell_type": "markdown",
      "source": [
        "### Step 9: Compare the Predicted Sentiments with the Original\n"
      ],
      "metadata": {
        "id": "vGPWIoGeOdlU"
      }
    },
    {
      "cell_type": "code",
      "source": [
        "random_5_rows_copy['Predicted_Sentiments'] = predicted_sentiments\n",
        "random_5_rows_copy"
      ],
      "metadata": {
        "id": "JxmjQup-N6O2"
      },
      "execution_count": null,
      "outputs": []
    },
    {
      "cell_type": "markdown",
      "source": [
        "### **Final Observations** 🌟  \n",
        "\n",
        "Upon review, the model's predictions often seem **more accurate** than the dataset labels.  \n",
        "\n",
        "For example:  \n",
        "- **Example 26002**: Labeled **Positive**, but the model correctly identified it as **Mixed** due to both positive and negative remarks.  \n",
        "\n",
        "- **Example 19864**: Labeled **Positive**, yet the model’s prediction of **Mixed** better reflects the review's tone, which included significant complaints.\n",
        "\n",
        "---\n",
        "\n",
        "### **Conclusion**:  \n",
        "The model captures nuances better than the dataset labels, showing its strength in understanding complex sentiments. This highlights the power of fine-tuned BERT for sentiment analysis! 🚀"
      ],
      "metadata": {
        "id": "E2FgyUl1P18G"
      }
    },
    {
      "cell_type": "markdown",
      "source": [
        "\n",
        "---\n",
        "\n",
        "### **About the Author** 👨‍💻  \n",
        "\n",
        "This fine-tuning project was created by **Khaled Soudy**. Check out more of my work on [GitHub](https://github.com/khaledsoudy-1)! 😊  \n",
        "\n",
        "---"
      ],
      "metadata": {
        "id": "8b4uqZS2QWAo"
      }
    }
  ]
}